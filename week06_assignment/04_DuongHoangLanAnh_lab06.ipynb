{
 "cells": [
  {
   "cell_type": "markdown",
   "metadata": {},
   "source": [
    "# Lab 06 - Bài tập"
   ]
  },
  {
   "cell_type": "markdown",
   "metadata": {},
   "source": [
    "import library"
   ]
  },
  {
   "cell_type": "code",
   "execution_count": 1,
   "metadata": {},
   "outputs": [],
   "source": [
    "import numpy as np\n",
    "import pandas as pd\n",
    "import matplotlib.pyplot as plt\n",
    "import seaborn as sns\n",
    "import scipy.stats as stats\n",
    "\n",
    "import os\n",
    "import math\n",
    "import random\n",
    "\n",
    "from statsmodels.stats.proportion import proportion_confint"
   ]
  },
  {
   "cell_type": "markdown",
   "metadata": {},
   "source": [
    "## <u>Bài 1</u>"
   ]
  },
  {
   "cell_type": "markdown",
   "metadata": {},
   "source": [
    "Green M&M Candies liên quan đến Dataset 18 trong file excel. Tìm tỉ lệ mẫu của M&M có màu xanh lá cây (green). Sử dụng kết quả để xây dựng 1 ước lượng khoảng tin cậy 95% của tổng thể M&M có màu xanh."
   ]
  },
  {
   "cell_type": "markdown",
   "metadata": {},
   "source": [
    "Đọc dữ liệu Green M&M Candies từ file excel"
   ]
  },
  {
   "cell_type": "code",
   "execution_count": 2,
   "metadata": {},
   "outputs": [],
   "source": [
    "m_m_data = pd.read_excel('18_M&M.xls')"
   ]
  },
  {
   "cell_type": "code",
   "execution_count": 3,
   "metadata": {},
   "outputs": [
    {
     "data": {
      "text/html": [
       "<div>\n",
       "<style scoped>\n",
       "    .dataframe tbody tr th:only-of-type {\n",
       "        vertical-align: middle;\n",
       "    }\n",
       "\n",
       "    .dataframe tbody tr th {\n",
       "        vertical-align: top;\n",
       "    }\n",
       "\n",
       "    .dataframe thead th {\n",
       "        text-align: right;\n",
       "    }\n",
       "</style>\n",
       "<table border=\"1\" class=\"dataframe\">\n",
       "  <thead>\n",
       "    <tr style=\"text-align: right;\">\n",
       "      <th></th>\n",
       "      <th>Red</th>\n",
       "      <th>Orange</th>\n",
       "      <th>Yellow</th>\n",
       "      <th>Brown</th>\n",
       "      <th>Blue</th>\n",
       "      <th>Green</th>\n",
       "    </tr>\n",
       "  </thead>\n",
       "  <tbody>\n",
       "    <tr>\n",
       "      <th>0</th>\n",
       "      <td>0.751</td>\n",
       "      <td>0.735</td>\n",
       "      <td>0.883</td>\n",
       "      <td>0.696</td>\n",
       "      <td>0.881</td>\n",
       "      <td>0.925</td>\n",
       "    </tr>\n",
       "    <tr>\n",
       "      <th>1</th>\n",
       "      <td>0.841</td>\n",
       "      <td>0.895</td>\n",
       "      <td>0.769</td>\n",
       "      <td>0.876</td>\n",
       "      <td>0.863</td>\n",
       "      <td>0.914</td>\n",
       "    </tr>\n",
       "    <tr>\n",
       "      <th>2</th>\n",
       "      <td>0.856</td>\n",
       "      <td>0.865</td>\n",
       "      <td>0.859</td>\n",
       "      <td>0.855</td>\n",
       "      <td>0.775</td>\n",
       "      <td>0.881</td>\n",
       "    </tr>\n",
       "    <tr>\n",
       "      <th>3</th>\n",
       "      <td>0.799</td>\n",
       "      <td>0.864</td>\n",
       "      <td>0.784</td>\n",
       "      <td>0.806</td>\n",
       "      <td>0.854</td>\n",
       "      <td>0.865</td>\n",
       "    </tr>\n",
       "    <tr>\n",
       "      <th>4</th>\n",
       "      <td>0.966</td>\n",
       "      <td>0.852</td>\n",
       "      <td>0.824</td>\n",
       "      <td>0.840</td>\n",
       "      <td>0.810</td>\n",
       "      <td>0.865</td>\n",
       "    </tr>\n",
       "  </tbody>\n",
       "</table>\n",
       "</div>"
      ],
      "text/plain": [
       "     Red  Orange  Yellow  Brown   Blue  Green\n",
       "0  0.751   0.735   0.883  0.696  0.881  0.925\n",
       "1  0.841   0.895   0.769  0.876  0.863  0.914\n",
       "2  0.856   0.865   0.859  0.855  0.775  0.881\n",
       "3  0.799   0.864   0.784  0.806  0.854  0.865\n",
       "4  0.966   0.852   0.824  0.840  0.810  0.865"
      ]
     },
     "execution_count": 3,
     "metadata": {},
     "output_type": "execute_result"
    }
   ],
   "source": [
    "m_m_data.head()"
   ]
  },
  {
   "cell_type": "markdown",
   "metadata": {},
   "source": [
    "Tính toán ước lượng khoảng tin cậy 95% của tổng thể M&M có màu xanh"
   ]
  },
  {
   "cell_type": "code",
   "execution_count": 4,
   "metadata": {},
   "outputs": [
    {
     "name": "stdout",
     "output_type": "stream",
     "text": [
      "Tỉ lệ mẫu của M&M có màu xanh: 1.0\n",
      "Ước lượng khoảng tin cậy 95% của tổng thể M&M có màu xanh: (0.8754, 1.0)\n"
     ]
    }
   ],
   "source": [
    "# Lấy cột Green từ dữ liệu 18_M&M.xls\n",
    "green_mms = m_m_data['Green']\n",
    "\n",
    "# Chuyển đổi dữ liệu thành mảng numpy\n",
    "green_mms = np.array(m_m_data['Green'])\n",
    "\n",
    "# Tính tỷ lệ mẫu của M&M có màu xanh lá cây (green)\n",
    "sample_proportion_green_mms = np.mean(green_mms != '')\n",
    "\n",
    "# Tính ước lượng khoảng tin cậy 95% của tổng thể M&M có màu xanh\n",
    "conf_interval_green_mms = proportion_confint(np.sum(green_mms != ''), len(green_mms), alpha=0.05, method='wilson')\n",
    "\n",
    "# Hiển thị kết quả\n",
    "print(f\"Tỉ lệ mẫu của M&M có màu xanh: {sample_proportion_green_mms}\")\n",
    "print(f\"Ước lượng khoảng tin cậy 95% của tổng thể M&M có màu xanh: {tuple(round(x, 4) for x in conf_interval_green_mms)}\")"
   ]
  },
  {
   "cell_type": "markdown",
   "metadata": {},
   "source": [
    "## <u>Bài 2</u>"
   ]
  },
  {
   "cell_type": "markdown",
   "metadata": {},
   "source": [
    "Freshman Weight Gain liên quan đến Dataset 3 trong file excel\n",
    "\n",
    "a. Dựa vào kết quả của mẫu, tìm ước lượng điểm tốt nhất của tỉ lệ phần trăm các sinh viên cao đẳng tăng cân trong năm thứ 1.\n",
    "\n",
    "b. Xây dựng ước lượng khoảng tin cậy 95% về tỉ lệ phần trăm các sinh viên cao đẳng tăng cân trong năm thứ 1.\n"
   ]
  },
  {
   "cell_type": "markdown",
   "metadata": {},
   "source": [
    "Đọc dữ liệu Freshman Weight Gain từ file excel"
   ]
  },
  {
   "cell_type": "code",
   "execution_count": 5,
   "metadata": {},
   "outputs": [],
   "source": [
    "freshman_survey = pd.read_excel('03_FRESH15.xls')"
   ]
  },
  {
   "cell_type": "code",
   "execution_count": 6,
   "metadata": {},
   "outputs": [
    {
     "data": {
      "text/html": [
       "<div>\n",
       "<style scoped>\n",
       "    .dataframe tbody tr th:only-of-type {\n",
       "        vertical-align: middle;\n",
       "    }\n",
       "\n",
       "    .dataframe tbody tr th {\n",
       "        vertical-align: top;\n",
       "    }\n",
       "\n",
       "    .dataframe thead th {\n",
       "        text-align: right;\n",
       "    }\n",
       "</style>\n",
       "<table border=\"1\" class=\"dataframe\">\n",
       "  <thead>\n",
       "    <tr style=\"text-align: right;\">\n",
       "      <th></th>\n",
       "      <th>SEX</th>\n",
       "      <th>WTSEP</th>\n",
       "      <th>WTAPR</th>\n",
       "      <th>BMISP</th>\n",
       "      <th>BMIAP</th>\n",
       "    </tr>\n",
       "  </thead>\n",
       "  <tbody>\n",
       "    <tr>\n",
       "      <th>0</th>\n",
       "      <td>M</td>\n",
       "      <td>72</td>\n",
       "      <td>59</td>\n",
       "      <td>22.02</td>\n",
       "      <td>18.14</td>\n",
       "    </tr>\n",
       "    <tr>\n",
       "      <th>1</th>\n",
       "      <td>M</td>\n",
       "      <td>97</td>\n",
       "      <td>86</td>\n",
       "      <td>19.70</td>\n",
       "      <td>17.44</td>\n",
       "    </tr>\n",
       "    <tr>\n",
       "      <th>2</th>\n",
       "      <td>M</td>\n",
       "      <td>74</td>\n",
       "      <td>69</td>\n",
       "      <td>24.09</td>\n",
       "      <td>22.43</td>\n",
       "    </tr>\n",
       "    <tr>\n",
       "      <th>3</th>\n",
       "      <td>M</td>\n",
       "      <td>93</td>\n",
       "      <td>88</td>\n",
       "      <td>26.97</td>\n",
       "      <td>25.57</td>\n",
       "    </tr>\n",
       "    <tr>\n",
       "      <th>4</th>\n",
       "      <td>F</td>\n",
       "      <td>68</td>\n",
       "      <td>64</td>\n",
       "      <td>21.51</td>\n",
       "      <td>20.10</td>\n",
       "    </tr>\n",
       "  </tbody>\n",
       "</table>\n",
       "</div>"
      ],
      "text/plain": [
       "  SEX  WTSEP  WTAPR  BMISP  BMIAP\n",
       "0   M     72     59  22.02  18.14\n",
       "1   M     97     86  19.70  17.44\n",
       "2   M     74     69  24.09  22.43\n",
       "3   M     93     88  26.97  25.57\n",
       "4   F     68     64  21.51  20.10"
      ]
     },
     "execution_count": 6,
     "metadata": {},
     "output_type": "execute_result"
    }
   ],
   "source": [
    "freshman_survey.head()"
   ]
  },
  {
   "cell_type": "markdown",
   "metadata": {},
   "source": [
    "Tính toán"
   ]
  },
  {
   "cell_type": "code",
   "execution_count": 7,
   "metadata": {},
   "outputs": [
    {
     "name": "stdout",
     "output_type": "stream",
     "text": [
      "Câu a. Ước lượng điểm tốt nhất của tỉ lệ phần trăm sinh viên cao đẳng tăng cân trong năm thứ 1: 67.1642\n",
      "Câu b. Ước lượng khoảng tin cậy 95% về tỉ lệ phần trăm sinh viên cao đẳng tăng cân trong năm thứ 1: \n",
      "0.5526\n",
      "0.7721\n",
      "0.5526\n",
      "0.7721\n",
      "0.5526\n",
      "0.7721\n",
      "0.5526\n",
      "0.7721\n",
      "0.5526\n",
      "0.7721\n",
      "0.5526\n",
      "0.7721\n",
      "0.5526\n",
      "0.7721\n",
      "0.5526\n",
      "0.7721\n",
      "0.5526\n",
      "0.7721\n",
      "0.5526\n",
      "0.7721\n",
      "0.5526\n",
      "0.7721\n",
      "0.5526\n",
      "0.7721\n",
      "0.5526\n",
      "0.7721\n",
      "0.5526\n",
      "0.7721\n",
      "0.5526\n",
      "0.7721\n",
      "0.5526\n",
      "0.7721\n",
      "0.5526\n",
      "0.7721\n",
      "0.5526\n",
      "0.7721\n",
      "0.5526\n",
      "0.7721\n",
      "0.5526\n",
      "0.7721\n",
      "0.5526\n",
      "0.7721\n",
      "0.5526\n",
      "0.7721\n",
      "0.5526\n",
      "0.7721\n",
      "0.5526\n",
      "0.7721\n",
      "0.5526\n",
      "0.7721\n",
      "0.5526\n",
      "0.7721\n",
      "0.5526\n",
      "0.7721\n",
      "0.5526\n",
      "0.7721\n",
      "0.5526\n",
      "0.7721\n",
      "0.5526\n",
      "0.7721\n",
      "0.5526\n",
      "0.7721\n",
      "0.5526\n",
      "0.7721\n",
      "0.5526\n",
      "0.7721\n",
      "0.5526\n",
      "0.7721\n",
      "0.5526\n",
      "0.7721\n",
      "0.5526\n",
      "0.7721\n",
      "0.5526\n",
      "0.7721\n",
      "0.5526\n",
      "0.7721\n",
      "0.5526\n",
      "0.7721\n",
      "0.5526\n",
      "0.7721\n",
      "0.5526\n",
      "0.7721\n",
      "0.5526\n",
      "0.7721\n",
      "0.5526\n",
      "0.7721\n",
      "0.5526\n",
      "0.7721\n",
      "0.5526\n",
      "0.7721\n",
      "0.5526\n",
      "0.7721\n",
      "0.5526\n",
      "0.7721\n",
      "0.5526\n",
      "0.7721\n",
      "0.5526\n",
      "0.7721\n",
      "0.5526\n",
      "0.7721\n",
      "0.5526\n",
      "0.7721\n",
      "0.5526\n",
      "0.7721\n",
      "0.5526\n",
      "0.7721\n",
      "0.5526\n",
      "0.7721\n",
      "0.5526\n",
      "0.7721\n",
      "0.5526\n",
      "0.7721\n",
      "0.5526\n",
      "0.7721\n",
      "0.5526\n",
      "0.7721\n",
      "0.5526\n",
      "0.7721\n",
      "0.5526\n",
      "0.7721\n",
      "0.5526\n",
      "0.7721\n",
      "0.5526\n",
      "0.7721\n",
      "0.5526\n",
      "0.7721\n",
      "0.5526\n",
      "0.7721\n",
      "0.5526\n",
      "0.7721\n",
      "0.5526\n",
      "0.7721\n",
      "0.5526\n",
      "0.7721\n",
      "0.5526\n",
      "0.7721\n",
      "0.5526\n",
      "0.7721\n",
      "0.5526\n",
      "0.7721\n",
      "0.5526\n",
      "0.7721\n",
      "0.5526\n",
      "0.7721\n",
      "0.5526\n",
      "0.7721\n",
      "0.5526\n",
      "0.7721\n",
      "0.5526\n",
      "0.7721\n",
      "0.5526\n",
      "0.7721\n",
      "0.5526\n",
      "0.7721\n",
      "0.5526\n",
      "0.7721\n",
      "0.5526\n",
      "0.7721\n",
      "0.5526\n",
      "0.7721\n",
      "0.5526\n",
      "0.7721\n",
      "0.5526\n",
      "0.7721\n",
      "0.5526\n",
      "0.7721\n",
      "0.5526\n",
      "0.7721\n",
      "0.5526\n",
      "0.7721\n",
      "0.5526\n",
      "0.7721\n",
      "0.5526\n",
      "0.7721\n",
      "0.5526\n",
      "0.7721\n",
      "0.5526\n",
      "0.7721\n",
      "0.5526\n",
      "0.7721\n",
      "0.5526\n",
      "0.7721\n",
      "0.5526\n",
      "0.7721\n",
      "0.5526\n",
      "0.7721\n",
      "0.5526\n",
      "0.7721\n",
      "0.5526\n",
      "0.7721\n",
      "0.5526\n",
      "0.7721\n",
      "0.5526\n",
      "0.7721\n",
      "0.5526\n",
      "0.7721\n",
      "0.5526\n",
      "0.7721\n",
      "0.5526\n",
      "0.7721\n"
     ]
    }
   ],
   "source": [
    "# Câu a: Tính tỉ lệ phần trăm sinh viên cao đẳng tăng cân trong năm thứ 1\n",
    "weight_gain_percent = (freshman_survey['WTAPR'] > freshman_survey['WTSEP']).mean() * 100\n",
    "\n",
    "# Câu b: Tính ước lượng khoảng tin cậy 95% về tỉ lệ phần trăm sinh viên cao đẳng tăng cân trong năm thứ 1\n",
    "conf_interval_weight_gain = proportion_confint((freshman_survey['WTAPR'] > freshman_survey['WTSEP']).sum(), len(freshman_survey), alpha=0.05, method='wilson') * 100\n",
    "\n",
    "# Hiển thị kết quả\n",
    "print(f\"Câu a. Ước lượng điểm tốt nhất của tỉ lệ phần trăm sinh viên cao đẳng tăng cân trong năm thứ 1: {round(weight_gain_percent, 4)}\")\n",
    "print(\"Câu b. Ước lượng khoảng tin cậy 95% về tỉ lệ phần trăm sinh viên cao đẳng tăng cân trong năm thứ 1: \")\n",
    "for value in conf_interval_weight_gain:\n",
    "    print(round(value, 4))"
   ]
  },
  {
   "cell_type": "markdown",
   "metadata": {},
   "source": [
    "## <u>Bài 3</u>"
   ]
  },
  {
   "cell_type": "markdown",
   "metadata": {},
   "source": [
    "Lượng mưa ở Boston: liên quan đến Dataset 14 trong file excel, và quan tâm đến các ngày với các giá trị lượng mưa khác nhau từ 0 đến các ngày có mưa có giá trị lượng mưa lớn hơn 0.\n",
    "\n",
    "- Xây dựng ước lượng khoảng tin cậy 95% cho tỉ lệ mưa trong các ngày Thứ Tư và \n",
    "- Xây dựng ước lượng khoảng tin cậy 95% cho tỉ lệ mưa trong các ngày Chủ Nhật."
   ]
  },
  {
   "cell_type": "markdown",
   "metadata": {},
   "source": [
    "Đọc dữ liệu lượng mưa ở Boston từ file excel"
   ]
  },
  {
   "cell_type": "code",
   "execution_count": 8,
   "metadata": {},
   "outputs": [],
   "source": [
    "boston_rainfall = pd.read_excel('14_BOSTRAIN.xls')"
   ]
  },
  {
   "cell_type": "code",
   "execution_count": 9,
   "metadata": {},
   "outputs": [
    {
     "data": {
      "text/html": [
       "<div>\n",
       "<style scoped>\n",
       "    .dataframe tbody tr th:only-of-type {\n",
       "        vertical-align: middle;\n",
       "    }\n",
       "\n",
       "    .dataframe tbody tr th {\n",
       "        vertical-align: top;\n",
       "    }\n",
       "\n",
       "    .dataframe thead th {\n",
       "        text-align: right;\n",
       "    }\n",
       "</style>\n",
       "<table border=\"1\" class=\"dataframe\">\n",
       "  <thead>\n",
       "    <tr style=\"text-align: right;\">\n",
       "      <th></th>\n",
       "      <th>MON</th>\n",
       "      <th>TUES</th>\n",
       "      <th>WED</th>\n",
       "      <th>THURS</th>\n",
       "      <th>FRI</th>\n",
       "      <th>SAT</th>\n",
       "      <th>SUN</th>\n",
       "    </tr>\n",
       "  </thead>\n",
       "  <tbody>\n",
       "    <tr>\n",
       "      <th>0</th>\n",
       "      <td>0.00</td>\n",
       "      <td>0.00</td>\n",
       "      <td>0.00</td>\n",
       "      <td>0.04</td>\n",
       "      <td>0.04</td>\n",
       "      <td>0.00</td>\n",
       "      <td>0.05</td>\n",
       "    </tr>\n",
       "    <tr>\n",
       "      <th>1</th>\n",
       "      <td>0.00</td>\n",
       "      <td>0.00</td>\n",
       "      <td>0.00</td>\n",
       "      <td>0.06</td>\n",
       "      <td>0.03</td>\n",
       "      <td>0.10</td>\n",
       "      <td>0.00</td>\n",
       "    </tr>\n",
       "    <tr>\n",
       "      <th>2</th>\n",
       "      <td>0.00</td>\n",
       "      <td>0.00</td>\n",
       "      <td>0.00</td>\n",
       "      <td>0.71</td>\n",
       "      <td>0.00</td>\n",
       "      <td>0.00</td>\n",
       "      <td>0.00</td>\n",
       "    </tr>\n",
       "    <tr>\n",
       "      <th>3</th>\n",
       "      <td>0.00</td>\n",
       "      <td>0.44</td>\n",
       "      <td>0.14</td>\n",
       "      <td>0.04</td>\n",
       "      <td>0.04</td>\n",
       "      <td>0.64</td>\n",
       "      <td>0.00</td>\n",
       "    </tr>\n",
       "    <tr>\n",
       "      <th>4</th>\n",
       "      <td>0.05</td>\n",
       "      <td>0.00</td>\n",
       "      <td>0.00</td>\n",
       "      <td>0.00</td>\n",
       "      <td>0.01</td>\n",
       "      <td>0.05</td>\n",
       "      <td>0.00</td>\n",
       "    </tr>\n",
       "  </tbody>\n",
       "</table>\n",
       "</div>"
      ],
      "text/plain": [
       "    MON  TUES   WED  THURS   FRI   SAT   SUN\n",
       "0  0.00  0.00  0.00   0.04  0.04  0.00  0.05\n",
       "1  0.00  0.00  0.00   0.06  0.03  0.10  0.00\n",
       "2  0.00  0.00  0.00   0.71  0.00  0.00  0.00\n",
       "3  0.00  0.44  0.14   0.04  0.04  0.64  0.00\n",
       "4  0.05  0.00  0.00   0.00  0.01  0.05  0.00"
      ]
     },
     "execution_count": 9,
     "metadata": {},
     "output_type": "execute_result"
    }
   ],
   "source": [
    "boston_rainfall.head()"
   ]
  },
  {
   "cell_type": "markdown",
   "metadata": {},
   "source": [
    "Tính toán ước lượng khoảng tin cậy 95% cho tỉ lệ mưa trong các ngày Thứ Tư và Chủ Nhật."
   ]
  },
  {
   "cell_type": "code",
   "execution_count": 10,
   "metadata": {},
   "outputs": [
    {
     "name": "stdout",
     "output_type": "stream",
     "text": [
      "Ước lượng khoảng tin cậy 95% cho tỉ lệ mưa trong các ngày Thứ Tư: (0.1952, 0.4354)\n",
      "Ước lượng khoảng tin cậy 95% cho tỉ lệ mưa trong các ngày Chủ Nhật: (0.1797, 0.4157)\n"
     ]
    }
   ],
   "source": [
    "# Chọn cột dữ liệu cho các ngày Thứ Tư và Chủ Nhật\n",
    "wed_data = boston_rainfall['WED']\n",
    "sun_data = boston_rainfall['SUN']\n",
    "\n",
    "# Tính tỉ lệ mưa trong các ngày Thứ Tư\n",
    "wed_rain_rate = (wed_data > 0).mean()\n",
    "\n",
    "# Tính tỉ lệ mưa trong các ngày Chủ Nhật\n",
    "sun_rain_rate = (sun_data > 0).mean()\n",
    "\n",
    "# Tính ước lượng khoảng tin cậy 95% cho tỉ lệ mưa trong các ngày Thứ Tư\n",
    "wed_conf_interval = proportion_confint((wed_data > 0).sum(), len(wed_data), alpha=0.05, method='wilson')\n",
    "\n",
    "# Tính ước lượng khoảng tin cậy 95% cho tỉ lệ mưa trong các ngày Chủ Nhật\n",
    "sun_conf_interval = proportion_confint((sun_data > 0).sum(), len(sun_data), alpha=0.05, method='wilson')\n",
    "\n",
    "# Hiển thị kết quả\n",
    "print(\"Ước lượng khoảng tin cậy 95% cho tỉ lệ mưa trong các ngày Thứ Tư:\", tuple(round(x, 4) for x in wed_conf_interval))\n",
    "print(\"Ước lượng khoảng tin cậy 95% cho tỉ lệ mưa trong các ngày Chủ Nhật:\", tuple(round(x, 4) for x in sun_conf_interval))"
   ]
  },
  {
   "cell_type": "markdown",
   "metadata": {},
   "source": [
    "## <u>Bài 4</u>"
   ]
  },
  {
   "cell_type": "markdown",
   "metadata": {},
   "source": [
    "Tổng số tiền phim: liên quan đến Dataset 9 trong file excel. Xây dựng ước tính khoảng thời gian tin cậy 95% của tổng số tiền trung bình cho quần thể của tất cả các phim. Giả định rằng độ lệch chuẩn của quần thể được biết là 100 triệu đô la. "
   ]
  },
  {
   "cell_type": "markdown",
   "metadata": {},
   "source": [
    "Đọc dữ liệu tổng số tiền phim từ file excel"
   ]
  },
  {
   "cell_type": "code",
   "execution_count": 11,
   "metadata": {},
   "outputs": [],
   "source": [
    "movies_data = pd.read_excel('09_MOVIES.xls')"
   ]
  },
  {
   "cell_type": "code",
   "execution_count": 12,
   "metadata": {},
   "outputs": [
    {
     "data": {
      "text/html": [
       "<div>\n",
       "<style scoped>\n",
       "    .dataframe tbody tr th:only-of-type {\n",
       "        vertical-align: middle;\n",
       "    }\n",
       "\n",
       "    .dataframe tbody tr th {\n",
       "        vertical-align: top;\n",
       "    }\n",
       "\n",
       "    .dataframe thead th {\n",
       "        text-align: right;\n",
       "    }\n",
       "</style>\n",
       "<table border=\"1\" class=\"dataframe\">\n",
       "  <thead>\n",
       "    <tr style=\"text-align: right;\">\n",
       "      <th></th>\n",
       "      <th>Title</th>\n",
       "      <th>MPAA</th>\n",
       "      <th>Budget</th>\n",
       "      <th>Gross</th>\n",
       "      <th>Length</th>\n",
       "      <th>Rating</th>\n",
       "    </tr>\n",
       "  </thead>\n",
       "  <tbody>\n",
       "    <tr>\n",
       "      <th>0</th>\n",
       "      <td>8 Mile</td>\n",
       "      <td>R</td>\n",
       "      <td>41.0</td>\n",
       "      <td>117</td>\n",
       "      <td>110</td>\n",
       "      <td>6.7</td>\n",
       "    </tr>\n",
       "    <tr>\n",
       "      <th>1</th>\n",
       "      <td>Alone in the Dark</td>\n",
       "      <td>R</td>\n",
       "      <td>20.0</td>\n",
       "      <td>5</td>\n",
       "      <td>96</td>\n",
       "      <td>2.2</td>\n",
       "    </tr>\n",
       "    <tr>\n",
       "      <th>2</th>\n",
       "      <td>Aviator</td>\n",
       "      <td>PG-13</td>\n",
       "      <td>116.0</td>\n",
       "      <td>103</td>\n",
       "      <td>170</td>\n",
       "      <td>7.6</td>\n",
       "    </tr>\n",
       "    <tr>\n",
       "      <th>3</th>\n",
       "      <td>Big Fish</td>\n",
       "      <td>PG-13</td>\n",
       "      <td>70.0</td>\n",
       "      <td>66</td>\n",
       "      <td>125</td>\n",
       "      <td>8.0</td>\n",
       "    </tr>\n",
       "    <tr>\n",
       "      <th>4</th>\n",
       "      <td>Bourne Identity</td>\n",
       "      <td>PG-13</td>\n",
       "      <td>75.0</td>\n",
       "      <td>121</td>\n",
       "      <td>119</td>\n",
       "      <td>7.4</td>\n",
       "    </tr>\n",
       "  </tbody>\n",
       "</table>\n",
       "</div>"
      ],
      "text/plain": [
       "               Title   MPAA  Budget  Gross  Length  Rating\n",
       "0             8 Mile      R    41.0    117     110     6.7\n",
       "1  Alone in the Dark      R    20.0      5      96     2.2\n",
       "2            Aviator  PG-13   116.0    103     170     7.6\n",
       "3           Big Fish  PG-13    70.0     66     125     8.0\n",
       "4    Bourne Identity  PG-13    75.0    121     119     7.4"
      ]
     },
     "execution_count": 12,
     "metadata": {},
     "output_type": "execute_result"
    }
   ],
   "source": [
    "movies_data.head()"
   ]
  },
  {
   "cell_type": "markdown",
   "metadata": {},
   "source": [
    "Tính toán ước lượng khoảng tin cậy 95% của tổng số tiền trung bình cho quần thể của tất cả các phim"
   ]
  },
  {
   "cell_type": "code",
   "execution_count": 13,
   "metadata": {},
   "outputs": [
    {
     "name": "stdout",
     "output_type": "stream",
     "text": [
      "Ước tính khoảng thời gian tin cậy 95% cho tổng số tiền trung bình: (89.8706, 156.1294)\n"
     ]
    }
   ],
   "source": [
    "# Lấy cột dữ liệu về tổng số tiền (Gross)\n",
    "gross_data = movies_data['Gross']\n",
    "\n",
    "# Tính tổng số tiền trung bình\n",
    "mean_gross = gross_data.mean()\n",
    "\n",
    "# Số phần tử trong quần thể\n",
    "population_size = len(gross_data)\n",
    "\n",
    "# Độ lệch chuẩn của quần thể (đã biết)\n",
    "population_std = 100\n",
    "\n",
    "# Tính ước tính khoảng thời gian tin cậy 95% cho tổng số tiền trung bình\n",
    "confidence_interval = stats.norm.interval(0.95, loc=mean_gross, scale=population_std / math.sqrt(population_size))\n",
    "\n",
    "# Hiển thị kết quả\n",
    "print(\"Ước tính khoảng thời gian tin cậy 95% cho tổng số tiền trung bình:\", tuple(round(x, 4) for x in confidence_interval))"
   ]
  },
  {
   "cell_type": "markdown",
   "metadata": {},
   "source": [
    "## <u>Bài 5</u>"
   ]
  },
  {
   "cell_type": "markdown",
   "metadata": {},
   "source": [
    "Điểm đánh giá tín dụng FICO: liên quan đến Dataset 24 trong file excel. Xây dựng ước lượng khoảng tin cậy 99% của điểm FICO trung bình cho quần thể. Giả sử độ lệch chuẩn của quần thể là 92,2."
   ]
  },
  {
   "cell_type": "markdown",
   "metadata": {},
   "source": [
    "Đọc dữ liệu điểm đánh giá tín dụng FICO từ file excel"
   ]
  },
  {
   "cell_type": "code",
   "execution_count": 14,
   "metadata": {},
   "outputs": [],
   "source": [
    "fico = pd.read_excel('24_FICO.xls')"
   ]
  },
  {
   "cell_type": "code",
   "execution_count": 15,
   "metadata": {},
   "outputs": [
    {
     "data": {
      "text/html": [
       "<div>\n",
       "<style scoped>\n",
       "    .dataframe tbody tr th:only-of-type {\n",
       "        vertical-align: middle;\n",
       "    }\n",
       "\n",
       "    .dataframe tbody tr th {\n",
       "        vertical-align: top;\n",
       "    }\n",
       "\n",
       "    .dataframe thead th {\n",
       "        text-align: right;\n",
       "    }\n",
       "</style>\n",
       "<table border=\"1\" class=\"dataframe\">\n",
       "  <thead>\n",
       "    <tr style=\"text-align: right;\">\n",
       "      <th></th>\n",
       "      <th>708</th>\n",
       "    </tr>\n",
       "  </thead>\n",
       "  <tbody>\n",
       "    <tr>\n",
       "      <th>0</th>\n",
       "      <td>713</td>\n",
       "    </tr>\n",
       "    <tr>\n",
       "      <th>1</th>\n",
       "      <td>781</td>\n",
       "    </tr>\n",
       "    <tr>\n",
       "      <th>2</th>\n",
       "      <td>809</td>\n",
       "    </tr>\n",
       "    <tr>\n",
       "      <th>3</th>\n",
       "      <td>797</td>\n",
       "    </tr>\n",
       "    <tr>\n",
       "      <th>4</th>\n",
       "      <td>793</td>\n",
       "    </tr>\n",
       "  </tbody>\n",
       "</table>\n",
       "</div>"
      ],
      "text/plain": [
       "   708\n",
       "0  713\n",
       "1  781\n",
       "2  809\n",
       "3  797\n",
       "4  793"
      ]
     },
     "execution_count": 15,
     "metadata": {},
     "output_type": "execute_result"
    }
   ],
   "source": [
    "fico.head()"
   ]
  },
  {
   "cell_type": "markdown",
   "metadata": {},
   "source": [
    "Tính toán ước lượng khoảng tin cậy 99% của điểm FICO trung bình cho quần thể"
   ]
  },
  {
   "cell_type": "code",
   "execution_count": 16,
   "metadata": {},
   "outputs": [
    {
     "name": "stdout",
     "output_type": "stream",
     "text": [
      "Ước lượng khoảng tin cậy 99% cho điểm FICO trung bình: (679.1918, 726.9294)\n"
     ]
    }
   ],
   "source": [
    "# Lấy cột dữ liệu về điểm FICO\n",
    "fico_scores = np.array(fico)\n",
    "\n",
    "# Tính điểm FICO trung bình\n",
    "mean_fico = np.mean(fico_scores)\n",
    "\n",
    "# Số phần tử trong quần thể\n",
    "population_size = len(fico_scores)\n",
    "\n",
    "# Độ lệch chuẩn của quần thể (đã biết)\n",
    "population_std = 92.2\n",
    "\n",
    "# Tính ước lượng khoảng tin cậy 99% cho điểm FICO trung bình\n",
    "fico_conf_interval = stats.norm.interval(0.99, loc=mean_fico, scale=population_std / math.sqrt(population_size))\n",
    "\n",
    "# Hiển thị kết quả\n",
    "print(\"Ước lượng khoảng tin cậy 99% cho điểm FICO trung bình:\", tuple(round(x, 4) for x in fico_conf_interval))"
   ]
  }
 ],
 "metadata": {
  "kernelspec": {
   "display_name": "venv",
   "language": "python",
   "name": "python3"
  },
  "language_info": {
   "codemirror_mode": {
    "name": "ipython",
    "version": 3
   },
   "file_extension": ".py",
   "mimetype": "text/x-python",
   "name": "python",
   "nbconvert_exporter": "python",
   "pygments_lexer": "ipython3",
   "version": "3.11.5"
  }
 },
 "nbformat": 4,
 "nbformat_minor": 2
}
