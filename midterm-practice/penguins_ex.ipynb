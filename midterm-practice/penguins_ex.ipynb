{
 "cells": [
  {
   "cell_type": "markdown",
   "metadata": {},
   "source": [
    "# Khảo sát dữ liệu về 3 loại chim cánh cụt"
   ]
  },
  {
   "cell_type": "markdown",
   "metadata": {},
   "source": [
    "Dữ liệu được cung cấp trong file **penguins-data.csv** được khảo sát các số đo của 3 loài chim cánh cụt trên 3 đảo (Biscoe, Dream, Torgersen)"
   ]
  },
  {
   "cell_type": "markdown",
   "metadata": {},
   "source": [
    "import libraries"
   ]
  },
  {
   "cell_type": "code",
   "execution_count": 1,
   "metadata": {},
   "outputs": [],
   "source": [
    "import pandas as pd\n",
    "import numpy as np\n",
    "import matplotlib.pyplot as plt\n",
    "import seaborn as sns\n",
    "import math\n",
    "import random"
   ]
  },
  {
   "cell_type": "markdown",
   "metadata": {},
   "source": [
    "## 1. Đọc dữ liệu\n",
    "\n",
    "Dữ liệu `penguins-data.csv` gồm các thông tin như sau:\n",
    "\n",
    "- **species**: loại chim cánh cụt\n",
    "- **island**: tên đảo mà chim cánh cụt đang sinh sống\n",
    "- **bill_length_mm**: độ dài của mỏ (đơn vị: milimét)\n",
    "- **bill_depth_mm**: độ sâu của mỏ (đơn vị: milimét)\n",
    "- **flipper_length_mm**: độ dài của cánh (đơn vị: milimét)\n",
    "- **body_mass_g**: trọng lượng cơ thể (đơn vị: gram)\n",
    "- **sex**: giới tính của chim cánh cụt"
   ]
  },
  {
   "cell_type": "markdown",
   "metadata": {},
   "source": [
    "Đọc dữ liệu"
   ]
  },
  {
   "cell_type": "code",
   "execution_count": 2,
   "metadata": {},
   "outputs": [],
   "source": [
    "penguins_data = pd.read_csv('penguins-data.csv')"
   ]
  },
  {
   "cell_type": "code",
   "execution_count": 3,
   "metadata": {},
   "outputs": [
    {
     "data": {
      "text/html": [
       "<div>\n",
       "<style scoped>\n",
       "    .dataframe tbody tr th:only-of-type {\n",
       "        vertical-align: middle;\n",
       "    }\n",
       "\n",
       "    .dataframe tbody tr th {\n",
       "        vertical-align: top;\n",
       "    }\n",
       "\n",
       "    .dataframe thead th {\n",
       "        text-align: right;\n",
       "    }\n",
       "</style>\n",
       "<table border=\"1\" class=\"dataframe\">\n",
       "  <thead>\n",
       "    <tr style=\"text-align: right;\">\n",
       "      <th></th>\n",
       "      <th>Unnamed: 0</th>\n",
       "      <th>species</th>\n",
       "      <th>island</th>\n",
       "      <th>bill_length_mm</th>\n",
       "      <th>bill_depth_mm</th>\n",
       "      <th>flipper_length_mm</th>\n",
       "      <th>body_mass_g</th>\n",
       "      <th>sex</th>\n",
       "    </tr>\n",
       "  </thead>\n",
       "  <tbody>\n",
       "    <tr>\n",
       "      <th>0</th>\n",
       "      <td>0</td>\n",
       "      <td>Adelie</td>\n",
       "      <td>Torgersen</td>\n",
       "      <td>39.1</td>\n",
       "      <td>18.7</td>\n",
       "      <td>181.0</td>\n",
       "      <td>3750.0</td>\n",
       "      <td>MALE</td>\n",
       "    </tr>\n",
       "    <tr>\n",
       "      <th>1</th>\n",
       "      <td>1</td>\n",
       "      <td>Adelie</td>\n",
       "      <td>Torgersen</td>\n",
       "      <td>39.5</td>\n",
       "      <td>17.4</td>\n",
       "      <td>186.0</td>\n",
       "      <td>3800.0</td>\n",
       "      <td>FEMALE</td>\n",
       "    </tr>\n",
       "    <tr>\n",
       "      <th>2</th>\n",
       "      <td>2</td>\n",
       "      <td>Adelie</td>\n",
       "      <td>Torgersen</td>\n",
       "      <td>40.3</td>\n",
       "      <td>18.0</td>\n",
       "      <td>195.0</td>\n",
       "      <td>3250.0</td>\n",
       "      <td>FEMALE</td>\n",
       "    </tr>\n",
       "    <tr>\n",
       "      <th>3</th>\n",
       "      <td>4</td>\n",
       "      <td>Adelie</td>\n",
       "      <td>Torgersen</td>\n",
       "      <td>36.7</td>\n",
       "      <td>19.3</td>\n",
       "      <td>193.0</td>\n",
       "      <td>3450.0</td>\n",
       "      <td>FEMALE</td>\n",
       "    </tr>\n",
       "    <tr>\n",
       "      <th>4</th>\n",
       "      <td>5</td>\n",
       "      <td>Adelie</td>\n",
       "      <td>Torgersen</td>\n",
       "      <td>39.3</td>\n",
       "      <td>20.6</td>\n",
       "      <td>190.0</td>\n",
       "      <td>3650.0</td>\n",
       "      <td>MALE</td>\n",
       "    </tr>\n",
       "    <tr>\n",
       "      <th>5</th>\n",
       "      <td>6</td>\n",
       "      <td>Adelie</td>\n",
       "      <td>Torgersen</td>\n",
       "      <td>38.9</td>\n",
       "      <td>17.8</td>\n",
       "      <td>181.0</td>\n",
       "      <td>3625.0</td>\n",
       "      <td>FEMALE</td>\n",
       "    </tr>\n",
       "    <tr>\n",
       "      <th>6</th>\n",
       "      <td>7</td>\n",
       "      <td>Adelie</td>\n",
       "      <td>Torgersen</td>\n",
       "      <td>39.2</td>\n",
       "      <td>19.6</td>\n",
       "      <td>195.0</td>\n",
       "      <td>4675.0</td>\n",
       "      <td>MALE</td>\n",
       "    </tr>\n",
       "    <tr>\n",
       "      <th>7</th>\n",
       "      <td>12</td>\n",
       "      <td>Adelie</td>\n",
       "      <td>Torgersen</td>\n",
       "      <td>41.1</td>\n",
       "      <td>17.6</td>\n",
       "      <td>182.0</td>\n",
       "      <td>3200.0</td>\n",
       "      <td>FEMALE</td>\n",
       "    </tr>\n",
       "    <tr>\n",
       "      <th>8</th>\n",
       "      <td>13</td>\n",
       "      <td>Adelie</td>\n",
       "      <td>Torgersen</td>\n",
       "      <td>38.6</td>\n",
       "      <td>21.2</td>\n",
       "      <td>191.0</td>\n",
       "      <td>3800.0</td>\n",
       "      <td>MALE</td>\n",
       "    </tr>\n",
       "    <tr>\n",
       "      <th>9</th>\n",
       "      <td>14</td>\n",
       "      <td>Adelie</td>\n",
       "      <td>Torgersen</td>\n",
       "      <td>34.6</td>\n",
       "      <td>21.1</td>\n",
       "      <td>198.0</td>\n",
       "      <td>4400.0</td>\n",
       "      <td>MALE</td>\n",
       "    </tr>\n",
       "  </tbody>\n",
       "</table>\n",
       "</div>"
      ],
      "text/plain": [
       "   Unnamed: 0 species     island  bill_length_mm  bill_depth_mm  \\\n",
       "0           0  Adelie  Torgersen            39.1           18.7   \n",
       "1           1  Adelie  Torgersen            39.5           17.4   \n",
       "2           2  Adelie  Torgersen            40.3           18.0   \n",
       "3           4  Adelie  Torgersen            36.7           19.3   \n",
       "4           5  Adelie  Torgersen            39.3           20.6   \n",
       "5           6  Adelie  Torgersen            38.9           17.8   \n",
       "6           7  Adelie  Torgersen            39.2           19.6   \n",
       "7          12  Adelie  Torgersen            41.1           17.6   \n",
       "8          13  Adelie  Torgersen            38.6           21.2   \n",
       "9          14  Adelie  Torgersen            34.6           21.1   \n",
       "\n",
       "   flipper_length_mm  body_mass_g     sex  \n",
       "0              181.0       3750.0    MALE  \n",
       "1              186.0       3800.0  FEMALE  \n",
       "2              195.0       3250.0  FEMALE  \n",
       "3              193.0       3450.0  FEMALE  \n",
       "4              190.0       3650.0    MALE  \n",
       "5              181.0       3625.0  FEMALE  \n",
       "6              195.0       4675.0    MALE  \n",
       "7              182.0       3200.0  FEMALE  \n",
       "8              191.0       3800.0    MALE  \n",
       "9              198.0       4400.0    MALE  "
      ]
     },
     "execution_count": 3,
     "metadata": {},
     "output_type": "execute_result"
    }
   ],
   "source": [
    "penguins_data.head(10)"
   ]
  },
  {
   "cell_type": "markdown",
   "metadata": {},
   "source": [
    "## 2. TÌM HIỂU DỮ LIỆU"
   ]
  },
  {
   "cell_type": "markdown",
   "metadata": {},
   "source": [
    "### 2.1. Số lượng chim cánh cụt của mỗi loài"
   ]
  },
  {
   "cell_type": "code",
   "execution_count": 4,
   "metadata": {},
   "outputs": [
    {
     "data": {
      "text/html": [
       "<div>\n",
       "<style scoped>\n",
       "    .dataframe tbody tr th:only-of-type {\n",
       "        vertical-align: middle;\n",
       "    }\n",
       "\n",
       "    .dataframe tbody tr th {\n",
       "        vertical-align: top;\n",
       "    }\n",
       "\n",
       "    .dataframe thead th {\n",
       "        text-align: right;\n",
       "    }\n",
       "</style>\n",
       "<table border=\"1\" class=\"dataframe\">\n",
       "  <thead>\n",
       "    <tr style=\"text-align: right;\">\n",
       "      <th></th>\n",
       "      <th>count</th>\n",
       "    </tr>\n",
       "    <tr>\n",
       "      <th>species</th>\n",
       "      <th></th>\n",
       "    </tr>\n",
       "  </thead>\n",
       "  <tbody>\n",
       "    <tr>\n",
       "      <th>Adelie</th>\n",
       "      <td>146</td>\n",
       "    </tr>\n",
       "    <tr>\n",
       "      <th>Gentoo</th>\n",
       "      <td>119</td>\n",
       "    </tr>\n",
       "    <tr>\n",
       "      <th>Chinstrap</th>\n",
       "      <td>68</td>\n",
       "    </tr>\n",
       "  </tbody>\n",
       "</table>\n",
       "</div>"
      ],
      "text/plain": [
       "           count\n",
       "species         \n",
       "Adelie       146\n",
       "Gentoo       119\n",
       "Chinstrap     68"
      ]
     },
     "execution_count": 4,
     "metadata": {},
     "output_type": "execute_result"
    }
   ],
   "source": [
    "# Đếm số lượng chim cánh cụt theo loài\n",
    "species_counts = penguins_data['species'].value_counts()\n",
    "\n",
    "# Hiển thị kết quả\n",
    "pd.DataFrame(species_counts)"
   ]
  },
  {
   "cell_type": "markdown",
   "metadata": {},
   "source": [
    "### 2.2. Số lượng mỗi loài chim cánh cụt trên mỗi đảo"
   ]
  },
  {
   "cell_type": "code",
   "execution_count": 11,
   "metadata": {},
   "outputs": [
    {
     "data": {
      "text/html": [
       "<div>\n",
       "<style scoped>\n",
       "    .dataframe tbody tr th:only-of-type {\n",
       "        vertical-align: middle;\n",
       "    }\n",
       "\n",
       "    .dataframe tbody tr th {\n",
       "        vertical-align: top;\n",
       "    }\n",
       "\n",
       "    .dataframe thead th {\n",
       "        text-align: right;\n",
       "    }\n",
       "</style>\n",
       "<table border=\"1\" class=\"dataframe\">\n",
       "  <thead>\n",
       "    <tr style=\"text-align: right;\">\n",
       "      <th></th>\n",
       "      <th></th>\n",
       "      <th>count</th>\n",
       "    </tr>\n",
       "    <tr>\n",
       "      <th>island</th>\n",
       "      <th>species</th>\n",
       "      <th></th>\n",
       "    </tr>\n",
       "  </thead>\n",
       "  <tbody>\n",
       "    <tr>\n",
       "      <th rowspan=\"2\" valign=\"top\">Biscoe</th>\n",
       "      <th>Adelie</th>\n",
       "      <td>44</td>\n",
       "    </tr>\n",
       "    <tr>\n",
       "      <th>Gentoo</th>\n",
       "      <td>119</td>\n",
       "    </tr>\n",
       "    <tr>\n",
       "      <th rowspan=\"2\" valign=\"top\">Dream</th>\n",
       "      <th>Adelie</th>\n",
       "      <td>55</td>\n",
       "    </tr>\n",
       "    <tr>\n",
       "      <th>Chinstrap</th>\n",
       "      <td>68</td>\n",
       "    </tr>\n",
       "    <tr>\n",
       "      <th>Torgersen</th>\n",
       "      <th>Adelie</th>\n",
       "      <td>47</td>\n",
       "    </tr>\n",
       "  </tbody>\n",
       "</table>\n",
       "</div>"
      ],
      "text/plain": [
       "                     count\n",
       "island    species         \n",
       "Biscoe    Adelie        44\n",
       "          Gentoo       119\n",
       "Dream     Adelie        55\n",
       "          Chinstrap     68\n",
       "Torgersen Adelie        47"
      ]
     },
     "execution_count": 11,
     "metadata": {},
     "output_type": "execute_result"
    }
   ],
   "source": [
    "# Gom nhóm theo cột 'island' và 'species', sau đó đếm số lượng chim cánh cụt\n",
    "island_species_counts = penguins_data.groupby(['island', 'species']).size()\n",
    "\n",
    "# Hiển thị kết quả\n",
    "pd.DataFrame(island_species_counts, columns=['count'])"
   ]
  },
  {
   "cell_type": "markdown",
   "metadata": {},
   "source": [
    "### 2.3. Tính toán các đại lượng thống kê:\n",
    "\n",
    "Với mỗi loại chim cánh cụt, bạn hãy so sánh các đại lượng thống kê:\n",
    "- Giá trị trung bình, \n",
    "\n",
    "- Giá trị trung vị,\n",
    "\n",
    "- Độ lệch chuẩn\n",
    "\n",
    "Trên các thuộc tính như: \n",
    "\n",
    "- Độ dài của mỏ (bill_length_mm)\n",
    "\n",
    "- Độ sâu của mỏ (bill_depth_mm)\n",
    "\n",
    "- Độ dài của cánh (flipper_length_mm)\n",
    "\n",
    "- Trọng lượng cơ thể (body_mass_g)"
   ]
  },
  {
   "cell_type": "code",
   "execution_count": 14,
   "metadata": {},
   "outputs": [
    {
     "data": {
      "text/html": [
       "<div>\n",
       "<style scoped>\n",
       "    .dataframe tbody tr th:only-of-type {\n",
       "        vertical-align: middle;\n",
       "    }\n",
       "\n",
       "    .dataframe tbody tr th {\n",
       "        vertical-align: top;\n",
       "    }\n",
       "\n",
       "    .dataframe thead tr th {\n",
       "        text-align: left;\n",
       "    }\n",
       "\n",
       "    .dataframe thead tr:last-of-type th {\n",
       "        text-align: right;\n",
       "    }\n",
       "</style>\n",
       "<table border=\"1\" class=\"dataframe\">\n",
       "  <thead>\n",
       "    <tr>\n",
       "      <th></th>\n",
       "      <th colspan=\"3\" halign=\"left\">bill_length_mm</th>\n",
       "      <th colspan=\"3\" halign=\"left\">bill_depth_mm</th>\n",
       "      <th colspan=\"3\" halign=\"left\">flipper_length_mm</th>\n",
       "      <th colspan=\"3\" halign=\"left\">body_mass_g</th>\n",
       "    </tr>\n",
       "    <tr>\n",
       "      <th></th>\n",
       "      <th>mean</th>\n",
       "      <th>median</th>\n",
       "      <th>std</th>\n",
       "      <th>mean</th>\n",
       "      <th>median</th>\n",
       "      <th>std</th>\n",
       "      <th>mean</th>\n",
       "      <th>median</th>\n",
       "      <th>std</th>\n",
       "      <th>mean</th>\n",
       "      <th>median</th>\n",
       "      <th>std</th>\n",
       "    </tr>\n",
       "    <tr>\n",
       "      <th>species</th>\n",
       "      <th></th>\n",
       "      <th></th>\n",
       "      <th></th>\n",
       "      <th></th>\n",
       "      <th></th>\n",
       "      <th></th>\n",
       "      <th></th>\n",
       "      <th></th>\n",
       "      <th></th>\n",
       "      <th></th>\n",
       "      <th></th>\n",
       "      <th></th>\n",
       "    </tr>\n",
       "  </thead>\n",
       "  <tbody>\n",
       "    <tr>\n",
       "      <th>Adelie</th>\n",
       "      <td>38.8240</td>\n",
       "      <td>38.85</td>\n",
       "      <td>2.6626</td>\n",
       "      <td>18.3473</td>\n",
       "      <td>18.40</td>\n",
       "      <td>1.2193</td>\n",
       "      <td>190.1027</td>\n",
       "      <td>190.0</td>\n",
       "      <td>6.5218</td>\n",
       "      <td>3706.1644</td>\n",
       "      <td>3700.0</td>\n",
       "      <td>458.6201</td>\n",
       "    </tr>\n",
       "    <tr>\n",
       "      <th>Chinstrap</th>\n",
       "      <td>48.8338</td>\n",
       "      <td>49.55</td>\n",
       "      <td>3.3393</td>\n",
       "      <td>18.4206</td>\n",
       "      <td>18.45</td>\n",
       "      <td>1.1354</td>\n",
       "      <td>195.8235</td>\n",
       "      <td>196.0</td>\n",
       "      <td>7.1319</td>\n",
       "      <td>3733.0882</td>\n",
       "      <td>3700.0</td>\n",
       "      <td>384.3351</td>\n",
       "    </tr>\n",
       "    <tr>\n",
       "      <th>Gentoo</th>\n",
       "      <td>47.5681</td>\n",
       "      <td>47.40</td>\n",
       "      <td>3.1061</td>\n",
       "      <td>14.9966</td>\n",
       "      <td>15.00</td>\n",
       "      <td>0.9860</td>\n",
       "      <td>217.2353</td>\n",
       "      <td>216.0</td>\n",
       "      <td>6.5854</td>\n",
       "      <td>5092.4370</td>\n",
       "      <td>5050.0</td>\n",
       "      <td>501.4762</td>\n",
       "    </tr>\n",
       "  </tbody>\n",
       "</table>\n",
       "</div>"
      ],
      "text/plain": [
       "          bill_length_mm                bill_depth_mm                 \\\n",
       "                    mean median     std          mean median     std   \n",
       "species                                                                \n",
       "Adelie           38.8240  38.85  2.6626       18.3473  18.40  1.2193   \n",
       "Chinstrap        48.8338  49.55  3.3393       18.4206  18.45  1.1354   \n",
       "Gentoo           47.5681  47.40  3.1061       14.9966  15.00  0.9860   \n",
       "\n",
       "          flipper_length_mm                body_mass_g                    \n",
       "                       mean median     std        mean  median       std  \n",
       "species                                                                   \n",
       "Adelie             190.1027  190.0  6.5218   3706.1644  3700.0  458.6201  \n",
       "Chinstrap          195.8235  196.0  7.1319   3733.0882  3700.0  384.3351  \n",
       "Gentoo             217.2353  216.0  6.5854   5092.4370  5050.0  501.4762  "
      ]
     },
     "execution_count": 14,
     "metadata": {},
     "output_type": "execute_result"
    }
   ],
   "source": [
    "# Tính toán các đại lượng thống kê cho các thuộc tính theo từng loại chim cánh cụt\n",
    "statistics = penguins_data.groupby('species').agg({\n",
    "    'bill_length_mm': ['mean', 'median', 'std'],\n",
    "    'bill_depth_mm': ['mean', 'median', 'std'],\n",
    "    'flipper_length_mm': ['mean', 'median', 'std'],\n",
    "    'body_mass_g': ['mean', 'median', 'std']\n",
    "})\n",
    "\n",
    "# Làm tròn 4 chữ số thập phân\n",
    "statistics = statistics.round(4)\n",
    "\n",
    "# In kết quả\n",
    "pd.DataFrame(statistics)"
   ]
  },
  {
   "cell_type": "markdown",
   "metadata": {},
   "source": [
    "## 3. Vẽ biểu đồ"
   ]
  },
  {
   "cell_type": "markdown",
   "metadata": {},
   "source": [
    "### 3.1. Vẽ đồ thị phù hợp thể hiện phân phối của 3 loại chim cánh cụt. Qua đó, bạn hãy đưa ra bình luận của mình."
   ]
  },
  {
   "cell_type": "code",
   "execution_count": 15,
   "metadata": {},
   "outputs": [
    {
     "data": {
      "image/png": "[encoded data removed]",
      "text/plain": [
       "<Figure size 640x480 with 1 Axes>"
      ]
     },
     "metadata": {},
     "output_type": "display_data"
    }
   ],
   "source": [
    "# Chọn dữ liệu của 3 loại chim cánh cụt: Adelie, Chinstrap, Gentoo\n",
    "adelie_data = penguins_data[penguins_data['species'] == 'Adelie']\n",
    "chinstrap_data = penguins_data[penguins_data['species'] == 'Chinstrap']\n",
    "gentoo_data = penguins_data[penguins_data['species'] == 'Gentoo']\n",
    "\n",
    "# Vẽ đồ thị phân phối cho thuộc tính 'bill_length_mm'\n",
    "plt.hist(adelie_data['bill_length_mm'], bins=20, alpha=0.5, label='Adelie')\n",
    "plt.hist(chinstrap_data['bill_length_mm'], bins=20, alpha=0.5, label='Chinstrap')\n",
    "plt.hist(gentoo_data['bill_length_mm'], bins=20, alpha=0.5, label='Gentoo')\n",
    "\n",
    "# Đặt tên cho các trục và tiêu đề đồ thị\n",
    "plt.xlabel('bill_length_mm')\n",
    "plt.ylabel('Frequency')\n",
    "plt.title('Distribution of bill_length_mm for Penguin Species')\n",
    "\n",
    "# Hiển thị chú thích\n",
    "plt.legend()\n",
    "\n",
    "# Hiển thị đồ thị\n",
    "plt.show()"
   ]
  },
  {
   "cell_type": "markdown",
   "metadata": {},
   "source": [
    "### 3.2. Chọn loại đồ thị phù hợp để khảo sát mối quan hệ giữa độ dài cánh và trọng lượng cơ thể của loài chim cánh cụt Gentoo:\n",
    "\n",
    "### a) Theo bạn, hai đại lượng này có quan hệ với nhau hay không? Giải thích.\n",
    "\n",
    "### b) Ngoài độ dài cánh, theo bạn còn thuộc tính nào có khả năng ảnh hưởng đến trọng lượng của loài chim cánh cụt Gentoo?"
   ]
  },
  {
   "cell_type": "markdown",
   "metadata": {},
   "source": [
    "#### Scatter plot khảo sát mối quan hệ giữa độ dài cánh và trọng lượng cơ thể của loài chim cánh cụt Gentoo"
   ]
  },
  {
   "cell_type": "code",
   "execution_count": 16,
   "metadata": {},
   "outputs": [
    {
     "data": {
      "image/png": "[encoded data removed]",
      "text/plain": [
       "<Figure size 640x480 with 1 Axes>"
      ]
     },
     "metadata": {},
     "output_type": "display_data"
    }
   ],
   "source": [
    "# Lấy dữ liệu của loài chim cánh cụt Gentoo\n",
    "gentoo_data = penguins_data[penguins_data['species'] == 'Gentoo']\n",
    "\n",
    "# Tạo đồ thị Scatter Plot\n",
    "plt.scatter(gentoo_data['flipper_length_mm'], gentoo_data['body_mass_g'])\n",
    "plt.xlabel('Độ dài cánh (mm)')\n",
    "plt.ylabel('Trọng lượng cơ thể (g)')\n",
    "plt.title('Mối quan hệ giữa độ dài cánh và trọng lượng cơ thể của chim cánh cụt Gentoo')\n",
    "\n",
    "# Hiển thị đồ thị\n",
    "plt.show()"
   ]
  },
  {
   "cell_type": "markdown",
   "metadata": {},
   "source": [
    "**Nhận xét:**\n",
    "\n",
    "Dựa vào đồ thị scatter plot, ta có thể nhận thấy một mối quan hệ dương khá mạnh giữa độ dài cánh và trọng lượng cơ thể của chim cánh cụt Gentoo. Cụ thể là khi độ dài cánh tăng, trọng lượng cơ thể cũng tăng. Điều này cho thấy có sự tương quan giữa hai đại lượng này."
   ]
  },
  {
   "cell_type": "markdown",
   "metadata": {},
   "source": [
    "#### Box plot khảo sát mối tương quan giữa độ dài mỏ, độ sâu mỏ có ảnh hưởng đến trọng lượng cơ thể của loài chim cánh cụt Gentoo hay không?"
   ]
  },
  {
   "cell_type": "code",
   "execution_count": 17,
   "metadata": {},
   "outputs": [
    {
     "data": {
      "image/png": "[encoded data removed]",
      "text/plain": [
       "<Figure size 800x600 with 1 Axes>"
      ]
     },
     "metadata": {},
     "output_type": "display_data"
    }
   ],
   "source": [
    "plt.figure(figsize=(8, 6))\n",
    "data_attributes = ['bill_length_mm', 'bill_depth_mm', 'body_mass_g']\n",
    "box_data = gentoo_data[data_attributes]\n",
    "box_data.boxplot()\n",
    "plt.title('So sánh trọng lượng cơ thể theo các thuộc tính')\n",
    "plt.ylabel('Trọng lượng cơ thể (g)')\n",
    "plt.xticks(rotation=45)\n",
    "plt.show()"
   ]
  },
  {
   "cell_type": "markdown",
   "metadata": {},
   "source": [
    "Đồ thị box plot sẽ cho thấy phân bố trọng lượng cơ thể của chim cánh cụt Gentoo theo các thuộc tính khác. Những thuộc tính có box plot có sự khác biệt rõ rệt và độ biến động lớn có khả năng ảnh hưởng đến trọng lượng cơ thể của chim cánh cụt Gentoo.\n",
    "\n",
    "**Nhận xét:** Các thuộc tính như độ dài mỏ (bill_length_mm) và độ sâu mỏ (bill_depth_mm) cũng có khả năng ảnh hưởng đến trọng lượng cơ thể của chim cánh cụt Gentoo, bên cạnh độ dài cánh."
   ]
  }
 ],
 "metadata": {
  "kernelspec": {
   "display_name": "venv",
   "language": "python",
   "name": "python3"
  },
  "language_info": {
   "codemirror_mode": {
    "name": "ipython",
    "version": 3
   },
   "file_extension": ".py",
   "mimetype": "text/x-python",
   "name": "python",
   "nbconvert_exporter": "python",
   "pygments_lexer": "ipython3",
   "version": "3.11.5"
  }
 },
 "nbformat": 4,
 "nbformat_minor": 2
}
