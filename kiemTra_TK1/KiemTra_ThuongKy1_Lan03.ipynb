{
 "cells": [
  {
   "cell_type": "markdown",
   "metadata": {},
   "source": [
    "# KIỂM TRA THƯỜNG KỲ 1 - LẦN 03\n",
    "# MÔN: THỐNG KÊ MÁY TÍNH & ỨNG DỤNG"
   ]
  },
  {
   "cell_type": "markdown",
   "metadata": {},
   "source": [
    "### Import thư viện"
   ]
  },
  {
   "cell_type": "code",
   "execution_count": 1,
   "metadata": {},
   "outputs": [],
   "source": [
    "import numpy as np\n",
    "import pandas as pd\n",
    "import matplotlib.pyplot as plt\n",
    "import scipy as sp\n",
    "import seaborn as sns"
   ]
  },
  {
   "cell_type": "markdown",
   "metadata": {},
   "source": [
    "### Đọc dữ liệu từ file csv"
   ]
  },
  {
   "cell_type": "code",
   "execution_count": 2,
   "metadata": {},
   "outputs": [],
   "source": [
    "df = pd.read_csv('Test01_3.csv')"
   ]
  },
  {
   "cell_type": "markdown",
   "metadata": {},
   "source": [
    "### Hiển thị dữ liệu"
   ]
  },
  {
   "cell_type": "code",
   "execution_count": 3,
   "metadata": {},
   "outputs": [
    {
     "data": {
      "text/html": [
       "<div>\n",
       "<style scoped>\n",
       "    .dataframe tbody tr th:only-of-type {\n",
       "        vertical-align: middle;\n",
       "    }\n",
       "\n",
       "    .dataframe tbody tr th {\n",
       "        vertical-align: top;\n",
       "    }\n",
       "\n",
       "    .dataframe thead th {\n",
       "        text-align: right;\n",
       "    }\n",
       "</style>\n",
       "<table border=\"1\" class=\"dataframe\">\n",
       "  <thead>\n",
       "    <tr style=\"text-align: right;\">\n",
       "      <th></th>\n",
       "      <th>STT</th>\n",
       "      <th>Giới Tính</th>\n",
       "      <th>Chiều Cao</th>\n",
       "      <th>Cân Nặng</th>\n",
       "      <th>Toeic</th>\n",
       "      <th>Hiệu Điện Thoại</th>\n",
       "      <th>Làm ở SG</th>\n",
       "    </tr>\n",
       "  </thead>\n",
       "  <tbody>\n",
       "    <tr>\n",
       "      <th>0</th>\n",
       "      <td>1</td>\n",
       "      <td>Nữ</td>\n",
       "      <td>162</td>\n",
       "      <td>47.0</td>\n",
       "      <td>425</td>\n",
       "      <td>SamSung</td>\n",
       "      <td>Có</td>\n",
       "    </tr>\n",
       "    <tr>\n",
       "      <th>1</th>\n",
       "      <td>2</td>\n",
       "      <td>Nữ</td>\n",
       "      <td>162</td>\n",
       "      <td>53.0</td>\n",
       "      <td>355</td>\n",
       "      <td>Iphone</td>\n",
       "      <td>Có</td>\n",
       "    </tr>\n",
       "    <tr>\n",
       "      <th>2</th>\n",
       "      <td>3</td>\n",
       "      <td>Nam</td>\n",
       "      <td>162</td>\n",
       "      <td>50.0</td>\n",
       "      <td>280</td>\n",
       "      <td>Xiaomi</td>\n",
       "      <td>Có</td>\n",
       "    </tr>\n",
       "    <tr>\n",
       "      <th>3</th>\n",
       "      <td>4</td>\n",
       "      <td>Nữ</td>\n",
       "      <td>157</td>\n",
       "      <td>49.0</td>\n",
       "      <td>280</td>\n",
       "      <td>SamSung</td>\n",
       "      <td>Chưa Biết</td>\n",
       "    </tr>\n",
       "    <tr>\n",
       "      <th>4</th>\n",
       "      <td>5</td>\n",
       "      <td>Nữ</td>\n",
       "      <td>160</td>\n",
       "      <td>56.0</td>\n",
       "      <td>360</td>\n",
       "      <td>OPPO</td>\n",
       "      <td>Chưa Biết</td>\n",
       "    </tr>\n",
       "  </tbody>\n",
       "</table>\n",
       "</div>"
      ],
      "text/plain": [
       "   STT Giới Tính  Chiều Cao   Cân Nặng  Toeic Hiệu Điện Thoại   Làm ở SG\n",
       "0    1        Nữ         162      47.0    425         SamSung         Có\n",
       "1    2        Nữ         162      53.0    355          Iphone         Có\n",
       "2    3       Nam         162      50.0    280          Xiaomi         Có\n",
       "3    4        Nữ         157      49.0    280         SamSung  Chưa Biết\n",
       "4    5        Nữ         160      56.0    360            OPPO  Chưa Biết"
      ]
     },
     "execution_count": 3,
     "metadata": {},
     "output_type": "execute_result"
    }
   ],
   "source": [
    "df.head()"
   ]
  },
  {
   "cell_type": "code",
   "execution_count": 4,
   "metadata": {},
   "outputs": [
    {
     "data": {
      "text/html": [
       "<div>\n",
       "<style scoped>\n",
       "    .dataframe tbody tr th:only-of-type {\n",
       "        vertical-align: middle;\n",
       "    }\n",
       "\n",
       "    .dataframe tbody tr th {\n",
       "        vertical-align: top;\n",
       "    }\n",
       "\n",
       "    .dataframe thead th {\n",
       "        text-align: right;\n",
       "    }\n",
       "</style>\n",
       "<table border=\"1\" class=\"dataframe\">\n",
       "  <thead>\n",
       "    <tr style=\"text-align: right;\">\n",
       "      <th></th>\n",
       "      <th>STT</th>\n",
       "      <th>Giới Tính</th>\n",
       "      <th>Chiều Cao</th>\n",
       "      <th>Cân Nặng</th>\n",
       "      <th>Toeic</th>\n",
       "      <th>Hiệu Điện Thoại</th>\n",
       "      <th>Làm ở SG</th>\n",
       "    </tr>\n",
       "  </thead>\n",
       "  <tbody>\n",
       "    <tr>\n",
       "      <th>67</th>\n",
       "      <td>68</td>\n",
       "      <td>Nam</td>\n",
       "      <td>170</td>\n",
       "      <td>65.0</td>\n",
       "      <td>325</td>\n",
       "      <td>SamSung</td>\n",
       "      <td>Có</td>\n",
       "    </tr>\n",
       "    <tr>\n",
       "      <th>68</th>\n",
       "      <td>69</td>\n",
       "      <td>Nam</td>\n",
       "      <td>166</td>\n",
       "      <td>58.0</td>\n",
       "      <td>350</td>\n",
       "      <td>SamSung</td>\n",
       "      <td>Có</td>\n",
       "    </tr>\n",
       "    <tr>\n",
       "      <th>69</th>\n",
       "      <td>70</td>\n",
       "      <td>Nam</td>\n",
       "      <td>165</td>\n",
       "      <td>63.0</td>\n",
       "      <td>290</td>\n",
       "      <td>Redmi</td>\n",
       "      <td>Có</td>\n",
       "    </tr>\n",
       "    <tr>\n",
       "      <th>70</th>\n",
       "      <td>71</td>\n",
       "      <td>Nam</td>\n",
       "      <td>165</td>\n",
       "      <td>53.0</td>\n",
       "      <td>260</td>\n",
       "      <td>Redmi</td>\n",
       "      <td>Có</td>\n",
       "    </tr>\n",
       "    <tr>\n",
       "      <th>71</th>\n",
       "      <td>72</td>\n",
       "      <td>Nữ</td>\n",
       "      <td>160</td>\n",
       "      <td>50.0</td>\n",
       "      <td>245</td>\n",
       "      <td>Iphone</td>\n",
       "      <td>Có</td>\n",
       "    </tr>\n",
       "  </tbody>\n",
       "</table>\n",
       "</div>"
      ],
      "text/plain": [
       "    STT Giới Tính  Chiều Cao   Cân Nặng  Toeic Hiệu Điện Thoại Làm ở SG\n",
       "67   68       Nam         170      65.0    325         SamSung       Có\n",
       "68   69       Nam         166      58.0    350         SamSung       Có\n",
       "69   70       Nam         165      63.0    290           Redmi       Có\n",
       "70   71       Nam         165      53.0    260           Redmi       Có\n",
       "71   72        Nữ         160      50.0    245          Iphone       Có"
      ]
     },
     "execution_count": 4,
     "metadata": {},
     "output_type": "execute_result"
    }
   ],
   "source": [
    "df.tail()"
   ]
  },
  {
   "cell_type": "markdown",
   "metadata": {},
   "source": [
    "### Đổi tên cột"
   ]
  },
  {
   "cell_type": "code",
   "execution_count": 5,
   "metadata": {},
   "outputs": [],
   "source": [
    "df = df.rename(columns={'Chiều Cao ': 'Chiều Cao'})"
   ]
  },
  {
   "cell_type": "code",
   "execution_count": 6,
   "metadata": {},
   "outputs": [
    {
     "data": {
      "text/html": [
       "<div>\n",
       "<style scoped>\n",
       "    .dataframe tbody tr th:only-of-type {\n",
       "        vertical-align: middle;\n",
       "    }\n",
       "\n",
       "    .dataframe tbody tr th {\n",
       "        vertical-align: top;\n",
       "    }\n",
       "\n",
       "    .dataframe thead th {\n",
       "        text-align: right;\n",
       "    }\n",
       "</style>\n",
       "<table border=\"1\" class=\"dataframe\">\n",
       "  <thead>\n",
       "    <tr style=\"text-align: right;\">\n",
       "      <th></th>\n",
       "      <th>STT</th>\n",
       "      <th>Giới Tính</th>\n",
       "      <th>Chiều Cao</th>\n",
       "      <th>Cân Nặng</th>\n",
       "      <th>Toeic</th>\n",
       "      <th>Hiệu Điện Thoại</th>\n",
       "      <th>Làm ở SG</th>\n",
       "    </tr>\n",
       "  </thead>\n",
       "  <tbody>\n",
       "    <tr>\n",
       "      <th>0</th>\n",
       "      <td>1</td>\n",
       "      <td>Nữ</td>\n",
       "      <td>162</td>\n",
       "      <td>47.0</td>\n",
       "      <td>425</td>\n",
       "      <td>SamSung</td>\n",
       "      <td>Có</td>\n",
       "    </tr>\n",
       "    <tr>\n",
       "      <th>1</th>\n",
       "      <td>2</td>\n",
       "      <td>Nữ</td>\n",
       "      <td>162</td>\n",
       "      <td>53.0</td>\n",
       "      <td>355</td>\n",
       "      <td>Iphone</td>\n",
       "      <td>Có</td>\n",
       "    </tr>\n",
       "    <tr>\n",
       "      <th>2</th>\n",
       "      <td>3</td>\n",
       "      <td>Nam</td>\n",
       "      <td>162</td>\n",
       "      <td>50.0</td>\n",
       "      <td>280</td>\n",
       "      <td>Xiaomi</td>\n",
       "      <td>Có</td>\n",
       "    </tr>\n",
       "    <tr>\n",
       "      <th>3</th>\n",
       "      <td>4</td>\n",
       "      <td>Nữ</td>\n",
       "      <td>157</td>\n",
       "      <td>49.0</td>\n",
       "      <td>280</td>\n",
       "      <td>SamSung</td>\n",
       "      <td>Chưa Biết</td>\n",
       "    </tr>\n",
       "    <tr>\n",
       "      <th>4</th>\n",
       "      <td>5</td>\n",
       "      <td>Nữ</td>\n",
       "      <td>160</td>\n",
       "      <td>56.0</td>\n",
       "      <td>360</td>\n",
       "      <td>OPPO</td>\n",
       "      <td>Chưa Biết</td>\n",
       "    </tr>\n",
       "    <tr>\n",
       "      <th>...</th>\n",
       "      <td>...</td>\n",
       "      <td>...</td>\n",
       "      <td>...</td>\n",
       "      <td>...</td>\n",
       "      <td>...</td>\n",
       "      <td>...</td>\n",
       "      <td>...</td>\n",
       "    </tr>\n",
       "    <tr>\n",
       "      <th>67</th>\n",
       "      <td>68</td>\n",
       "      <td>Nam</td>\n",
       "      <td>170</td>\n",
       "      <td>65.0</td>\n",
       "      <td>325</td>\n",
       "      <td>SamSung</td>\n",
       "      <td>Có</td>\n",
       "    </tr>\n",
       "    <tr>\n",
       "      <th>68</th>\n",
       "      <td>69</td>\n",
       "      <td>Nam</td>\n",
       "      <td>166</td>\n",
       "      <td>58.0</td>\n",
       "      <td>350</td>\n",
       "      <td>SamSung</td>\n",
       "      <td>Có</td>\n",
       "    </tr>\n",
       "    <tr>\n",
       "      <th>69</th>\n",
       "      <td>70</td>\n",
       "      <td>Nam</td>\n",
       "      <td>165</td>\n",
       "      <td>63.0</td>\n",
       "      <td>290</td>\n",
       "      <td>Redmi</td>\n",
       "      <td>Có</td>\n",
       "    </tr>\n",
       "    <tr>\n",
       "      <th>70</th>\n",
       "      <td>71</td>\n",
       "      <td>Nam</td>\n",
       "      <td>165</td>\n",
       "      <td>53.0</td>\n",
       "      <td>260</td>\n",
       "      <td>Redmi</td>\n",
       "      <td>Có</td>\n",
       "    </tr>\n",
       "    <tr>\n",
       "      <th>71</th>\n",
       "      <td>72</td>\n",
       "      <td>Nữ</td>\n",
       "      <td>160</td>\n",
       "      <td>50.0</td>\n",
       "      <td>245</td>\n",
       "      <td>Iphone</td>\n",
       "      <td>Có</td>\n",
       "    </tr>\n",
       "  </tbody>\n",
       "</table>\n",
       "<p>72 rows × 7 columns</p>\n",
       "</div>"
      ],
      "text/plain": [
       "    STT Giới Tính  Chiều Cao  Cân Nặng  Toeic Hiệu Điện Thoại   Làm ở SG\n",
       "0     1        Nữ        162      47.0    425         SamSung         Có\n",
       "1     2        Nữ        162      53.0    355          Iphone         Có\n",
       "2     3       Nam        162      50.0    280          Xiaomi         Có\n",
       "3     4        Nữ        157      49.0    280         SamSung  Chưa Biết\n",
       "4     5        Nữ        160      56.0    360            OPPO  Chưa Biết\n",
       "..  ...       ...        ...       ...    ...             ...        ...\n",
       "67   68       Nam        170      65.0    325         SamSung         Có\n",
       "68   69       Nam        166      58.0    350         SamSung         Có\n",
       "69   70       Nam        165      63.0    290           Redmi         Có\n",
       "70   71       Nam        165      53.0    260           Redmi         Có\n",
       "71   72        Nữ        160      50.0    245          Iphone         Có\n",
       "\n",
       "[72 rows x 7 columns]"
      ]
     },
     "execution_count": 6,
     "metadata": {},
     "output_type": "execute_result"
    }
   ],
   "source": [
    "df"
   ]
  },
  {
   "cell_type": "markdown",
   "metadata": {},
   "source": [
    "### 1. Cho biết kiểu dữ liệu của các trường thông tin sau?\n",
    "\n",
    "- Giới tính\n",
    "\n",
    "- Chiều cao\n",
    "\n",
    "- Cân nặng\n",
    "\n",
    "- Điểm Toeic\n",
    "\n",
    "- Hiệu điện thoại\n",
    "\n",
    "- Làm việc ở SG"
   ]
  },
  {
   "cell_type": "code",
   "execution_count": 7,
   "metadata": {},
   "outputs": [
    {
     "data": {
      "text/plain": [
       "STT                  int64\n",
       "Giới Tính           object\n",
       "Chiều Cao            int64\n",
       "Cân Nặng           float64\n",
       "Toeic                int64\n",
       "Hiệu Điện Thoại     object\n",
       "Làm ở SG            object\n",
       "dtype: object"
      ]
     },
     "execution_count": 7,
     "metadata": {},
     "output_type": "execute_result"
    }
   ],
   "source": [
    "# KT kiểu DL\n",
    "df.dtypes"
   ]
  },
  {
   "cell_type": "code",
   "execution_count": 8,
   "metadata": {},
   "outputs": [],
   "source": [
    "# Phân loại\n",
    "categorical_attributes = df.select_dtypes(include=['object']).columns\n",
    "numerical_attributes = df.select_dtypes(include=['int64', 'float64']).columns"
   ]
  },
  {
   "cell_type": "code",
   "execution_count": 9,
   "metadata": {},
   "outputs": [
    {
     "name": "stdout",
     "output_type": "stream",
     "text": [
      "Thuộc tính định tính:  Index(['Giới Tính', 'Hiệu Điện Thoại', 'Làm ở SG'], dtype='object')\n",
      "Thuộc tính định lượng:  Index(['STT', 'Chiều Cao', 'Cân Nặng', 'Toeic'], dtype='object')\n"
     ]
    }
   ],
   "source": [
    "# In kết quả\n",
    "print(\"Thuộc tính định tính: \", categorical_attributes)\n",
    "print(\"Thuộc tính định lượng: \", numerical_attributes)"
   ]
  },
  {
   "cell_type": "markdown",
   "metadata": {},
   "source": [
    "<u>**Nhận xét:**</u> **Kiểu dữ liệu của các trường thông tin trên là:**\n",
    "\n",
    "- Giới tính: Định tính\n",
    "\n",
    "- Chiều cao: Định lượng\n",
    "\n",
    "- Cân nặng: Định lượng\n",
    "\n",
    "- Điểm Toeic: Định lượng\n",
    "\n",
    "- Hiệu điện thoại: Định tính\n",
    "\n",
    "- Làm việc ở SG: Định tính"
   ]
  },
  {
   "cell_type": "markdown",
   "metadata": {},
   "source": [
    "### 2. Để thực hiện thống kê, bạn hãy lấy một số mẫu từ bảng dữ liệu thu thập được và cho biết **phương pháp lấy mẫu** trong các trường hợp sau?\n",
    "\n",
    "#### a. Trích 10 dòng đầu tiên từ bảng dữ liệu\n",
    "\n",
    "#### b. Chọn 10 dòng bất kỳ trong bảng dữ liệu\n",
    "\n",
    "#### c. Chọn các dòng mà số thứ tự của nó chia hết cho 7\n",
    "\n",
    "#### d. Chọn ngẫu nhiên 5 dòng có giới tính là nữ và 5 dòng có giới tính là nam\n",
    "\n",
    "#### e. Chọn các dòng có hiệu điện thoại là iPhone"
   ]
  },
  {
   "cell_type": "markdown",
   "metadata": {},
   "source": [
    "### 3. Lập bảng phân phối tần số. Vẽ đồ thị thân lá của cột dữ liệu Chiều cao"
   ]
  },
  {
   "cell_type": "code",
   "execution_count": 10,
   "metadata": {},
   "outputs": [
    {
     "name": "stdout",
     "output_type": "stream",
     "text": [
      "Bảng phân phối tần số của cột Chiều Cao:\n",
      "    Chiều Cao  Tần Số\n",
      "0         150       1\n",
      "1         152       1\n",
      "2         154       1\n",
      "3         155       2\n",
      "4         156       2\n",
      "5         157       1\n",
      "6         159       1\n",
      "7         160       5\n",
      "8         162       5\n",
      "9         164       3\n",
      "10        165       4\n",
      "11        166       2\n",
      "12        167       2\n",
      "13        168       5\n",
      "14        169       2\n",
      "15        170      17\n",
      "16        172       4\n",
      "17        173       4\n",
      "18        175       4\n",
      "19        176       1\n",
      "20        177       2\n",
      "21        178       2\n",
      "22        190       1\n"
     ]
    }
   ],
   "source": [
    "# Lập bảng phân phối tần số\n",
    "bang_tan_so_chieu_cao = df['Chiều Cao'].value_counts().sort_index().reset_index()\n",
    "bang_tan_so_chieu_cao.columns = ['Chiều Cao', 'Tần Số']\n",
    "\n",
    "# In bảng phân phối tần số\n",
    "print(\"Bảng phân phối tần số của cột Chiều Cao:\")\n",
    "print(bang_tan_so_chieu_cao)"
   ]
  },
  {
   "cell_type": "code",
   "execution_count": 11,
   "metadata": {},
   "outputs": [
    {
     "data": {
      "image/png": "[encoded data removed]",
      "text/plain": [
       "<Figure size 800x600 with 1 Axes>"
      ]
     },
     "metadata": {},
     "output_type": "display_data"
    }
   ],
   "source": [
    "# Vẽ đồ thị thân lá\n",
    "plt.figure(figsize=(8, 6))\n",
    "plt.hist(df['Chiều Cao'], bins=10, edgecolor='black')\n",
    "plt.xlabel('Chiều Cao (cm)')\n",
    "plt.ylabel('Tần số')\n",
    "plt.title('Phân phối Chiều Cao')\n",
    "plt.show()"
   ]
  },
  {
   "cell_type": "markdown",
   "metadata": {},
   "source": [
    "### 4. Lập bảng phân phối tần số tương đối và vẽ đồ thị Pie của cột Giới tính "
   ]
  },
  {
   "cell_type": "code",
   "execution_count": 12,
   "metadata": {},
   "outputs": [
    {
     "name": "stdout",
     "output_type": "stream",
     "text": [
      "Bảng phân phối tần số tương đối của cột Giới Tính:\n",
      "Giới Tính\n",
      "Nam    0.805556\n",
      "Nữ     0.194444\n",
      "Name: count, dtype: float64\n"
     ]
    }
   ],
   "source": [
    "# Lập bảng phân phối tần số tương đối\n",
    "tong_so_mau = len(df['Giới Tính'])\n",
    "phan_phoi_tan_so = df['Giới Tính'].value_counts() / tong_so_mau\n",
    "\n",
    "# In bảng phân phối tần số tương đối\n",
    "print(\"Bảng phân phối tần số tương đối của cột Giới Tính:\")\n",
    "print(phan_phoi_tan_so)"
   ]
  },
  {
   "cell_type": "code",
   "execution_count": 13,
   "metadata": {},
   "outputs": [
    {
     "data": {
      "image/png": "[encoded data removed]",
      "text/plain": [
       "<Figure size 600x600 with 1 Axes>"
      ]
     },
     "metadata": {},
     "output_type": "display_data"
    }
   ],
   "source": [
    "# Lập bảng phân phối tần số tương đối\n",
    "tong_so_mau = len(df['Giới Tính'])\n",
    "phan_phoi_tan_so = df['Giới Tính'].value_counts() / tong_so_mau\n",
    "\n",
    "# Vẽ biểu đồ Pie\n",
    "plt.figure(figsize=(6, 6))\n",
    "plt.pie(phan_phoi_tan_so, labels=phan_phoi_tan_so.index, autopct='%1.1f%%')\n",
    "plt.title('Phân phối Giới Tính')\n",
    "plt.show()"
   ]
  },
  {
   "cell_type": "markdown",
   "metadata": {},
   "source": [
    "### 5. Lập bảng phân phối tần số và vẽ Histograms điểm toeic với độ rộng khoảng 50"
   ]
  },
  {
   "cell_type": "code",
   "execution_count": 14,
   "metadata": {},
   "outputs": [
    {
     "name": "stdout",
     "output_type": "stream",
     "text": [
      "Bảng phân phối tần số của cột Toeic:\n",
      "   Khoảng Giá Trị  Tần Số\n",
      "0         [0, 50)       3\n",
      "1       [50, 100)       0\n",
      "2      [100, 150)       0\n",
      "3      [150, 200)       1\n",
      "4      [200, 250)       7\n",
      "5      [250, 300)      15\n",
      "6      [300, 350)      22\n",
      "7      [350, 400)      13\n",
      "8      [400, 450)       2\n",
      "9      [450, 500)       3\n",
      "10     [500, 550)       3\n",
      "11     [550, 600)       1\n",
      "12     [600, 650)       0\n",
      "13     [650, 700)       0\n",
      "14     [700, 750)       1\n",
      "15     [750, 800)       0\n",
      "16     [800, 850)       0\n",
      "17     [850, 900)       0\n",
      "18     [900, 950)       0\n",
      "19    [950, 1000)       1\n"
     ]
    }
   ],
   "source": [
    "# Lập bảng phân phối tần số\n",
    "do_rong = 50\n",
    "khoang_gia_tri = pd.cut(df['Toeic'], bins=range(0, max(df['Toeic']) + do_rong, do_rong), right=False)\n",
    "bang_tan_so = khoang_gia_tri.value_counts().sort_index().reset_index()\n",
    "bang_tan_so.columns = ['Khoảng Giá Trị', 'Tần Số']\n",
    "\n",
    "# In bảng phân phối tần số\n",
    "print(\"Bảng phân phối tần số của cột Toeic:\")\n",
    "print(bang_tan_so)"
   ]
  },
  {
   "cell_type": "code",
   "execution_count": 15,
   "metadata": {},
   "outputs": [
    {
     "data": {
      "image/png": "[encoded data removed]",
      "text/plain": [
       "<Figure size 800x600 with 1 Axes>"
      ]
     },
     "metadata": {},
     "output_type": "display_data"
    }
   ],
   "source": [
    "# Vẽ đồ thị Histogram\n",
    "plt.figure(figsize=(8, 6))\n",
    "plt.hist(df['Toeic'], bins=range(0, max(df['Toeic']) + do_rong, do_rong), edgecolor='black')\n",
    "plt.xlabel('Toeic')\n",
    "plt.ylabel('Tần số')\n",
    "plt.title('Phân phối Toeic')\n",
    "plt.show()"
   ]
  },
  {
   "cell_type": "markdown",
   "metadata": {},
   "source": [
    "### 6. Vẽ đồ thị Dotplot theo cột Hiệu điện thoại"
   ]
  },
  {
   "cell_type": "code",
   "execution_count": 16,
   "metadata": {},
   "outputs": [
    {
     "data": {
      "image/png": "[encoded data removed]",
      "text/plain": [
       "<Figure size 800x600 with 1 Axes>"
      ]
     },
     "metadata": {},
     "output_type": "display_data"
    }
   ],
   "source": [
    "# Lấy cột \"Hiệu Điện Thoại\"\n",
    "hieu_dien_thoai = df['Hiệu Điện Thoại']\n",
    "\n",
    "# Lập bảng phân phối tần số\n",
    "bang_tan_so_hieu_dt = hieu_dien_thoai.value_counts().reset_index()\n",
    "bang_tan_so_hieu_dt.columns = ['Hiệu Điện Thoại', 'Tần Số']\n",
    "\n",
    "# Vẽ đồ thị Dotplot\n",
    "plt.figure(figsize=(8, 6))\n",
    "plt.plot(bang_tan_so_hieu_dt['Hiệu Điện Thoại'], bang_tan_so_hieu_dt['Tần Số'], 'bo', markersize=10)\n",
    "plt.xlabel('Hiệu Điện Thoại')\n",
    "plt.ylabel('Tần số')\n",
    "plt.title('Dotplot theo Hiệu Điện Thoại')\n",
    "plt.xticks(rotation=90)\n",
    "plt.show()"
   ]
  },
  {
   "cell_type": "markdown",
   "metadata": {},
   "source": [
    "### 7. Cho biết Mẫu dữ liệu (gọi là Bảng 2) khi thực hiện lấy mẫu theo phương pháp chọn các dòng mà số thứ tự của nó chia hết cho 7. Kết quả thu được, ghi vào bảng 2. Bảng 2 gồm các cột như sau: STT, Giới tính, Chiều cao, Cân nặng, Toeic, Hiệu Điện Thoại, Làm ở SG, Z-score"
   ]
  },
  {
   "cell_type": "code",
   "execution_count": 17,
   "metadata": {},
   "outputs": [
    {
     "name": "stdout",
     "output_type": "stream",
     "text": [
      "Bảng 2 - Mẫu dữ liệu lấy theo phương pháp chia hết cho 7:\n"
     ]
    },
    {
     "name": "stderr",
     "output_type": "stream",
     "text": [
      "C:\\Users\\Lan Anh\\AppData\\Local\\Temp\\ipykernel_8452\\797952113.py:5: SettingWithCopyWarning: \n",
      "A value is trying to be set on a copy of a slice from a DataFrame.\n",
      "Try using .loc[row_indexer,col_indexer] = value instead\n",
      "\n",
      "See the caveats in the documentation: https://pandas.pydata.org/pandas-docs/stable/user_guide/indexing.html#returning-a-view-versus-a-copy\n",
      "  sample['Z-score'] = None\n"
     ]
    },
    {
     "data": {
      "text/html": [
       "<div>\n",
       "<style scoped>\n",
       "    .dataframe tbody tr th:only-of-type {\n",
       "        vertical-align: middle;\n",
       "    }\n",
       "\n",
       "    .dataframe tbody tr th {\n",
       "        vertical-align: top;\n",
       "    }\n",
       "\n",
       "    .dataframe thead th {\n",
       "        text-align: right;\n",
       "    }\n",
       "</style>\n",
       "<table border=\"1\" class=\"dataframe\">\n",
       "  <thead>\n",
       "    <tr style=\"text-align: right;\">\n",
       "      <th></th>\n",
       "      <th>STT</th>\n",
       "      <th>Giới Tính</th>\n",
       "      <th>Chiều Cao</th>\n",
       "      <th>Cân Nặng</th>\n",
       "      <th>Toeic</th>\n",
       "      <th>Hiệu Điện Thoại</th>\n",
       "      <th>Làm ở SG</th>\n",
       "      <th>Z-score</th>\n",
       "    </tr>\n",
       "  </thead>\n",
       "  <tbody>\n",
       "    <tr>\n",
       "      <th>0</th>\n",
       "      <td>1</td>\n",
       "      <td>Nữ</td>\n",
       "      <td>162</td>\n",
       "      <td>47.0</td>\n",
       "      <td>425</td>\n",
       "      <td>SamSung</td>\n",
       "      <td>Có</td>\n",
       "      <td>None</td>\n",
       "    </tr>\n",
       "    <tr>\n",
       "      <th>7</th>\n",
       "      <td>8</td>\n",
       "      <td>Nam</td>\n",
       "      <td>167</td>\n",
       "      <td>50.0</td>\n",
       "      <td>295</td>\n",
       "      <td>OPPO</td>\n",
       "      <td>Có</td>\n",
       "      <td>None</td>\n",
       "    </tr>\n",
       "    <tr>\n",
       "      <th>14</th>\n",
       "      <td>15</td>\n",
       "      <td>Nam</td>\n",
       "      <td>170</td>\n",
       "      <td>74.0</td>\n",
       "      <td>350</td>\n",
       "      <td>SamSung</td>\n",
       "      <td>Có</td>\n",
       "      <td>None</td>\n",
       "    </tr>\n",
       "    <tr>\n",
       "      <th>21</th>\n",
       "      <td>22</td>\n",
       "      <td>Nam</td>\n",
       "      <td>170</td>\n",
       "      <td>55.0</td>\n",
       "      <td>500</td>\n",
       "      <td>SamSung</td>\n",
       "      <td>Có</td>\n",
       "      <td>None</td>\n",
       "    </tr>\n",
       "    <tr>\n",
       "      <th>28</th>\n",
       "      <td>29</td>\n",
       "      <td>Nam</td>\n",
       "      <td>175</td>\n",
       "      <td>56.0</td>\n",
       "      <td>260</td>\n",
       "      <td>SamSung</td>\n",
       "      <td>Có</td>\n",
       "      <td>None</td>\n",
       "    </tr>\n",
       "    <tr>\n",
       "      <th>35</th>\n",
       "      <td>36</td>\n",
       "      <td>Nam</td>\n",
       "      <td>170</td>\n",
       "      <td>52.0</td>\n",
       "      <td>700</td>\n",
       "      <td>Iphone</td>\n",
       "      <td>Có</td>\n",
       "      <td>None</td>\n",
       "    </tr>\n",
       "    <tr>\n",
       "      <th>42</th>\n",
       "      <td>43</td>\n",
       "      <td>Nữ</td>\n",
       "      <td>168</td>\n",
       "      <td>52.0</td>\n",
       "      <td>230</td>\n",
       "      <td>OPPO</td>\n",
       "      <td>Không</td>\n",
       "      <td>None</td>\n",
       "    </tr>\n",
       "    <tr>\n",
       "      <th>49</th>\n",
       "      <td>50</td>\n",
       "      <td>Nam</td>\n",
       "      <td>168</td>\n",
       "      <td>60.0</td>\n",
       "      <td>235</td>\n",
       "      <td>Realme</td>\n",
       "      <td>Có</td>\n",
       "      <td>None</td>\n",
       "    </tr>\n",
       "    <tr>\n",
       "      <th>56</th>\n",
       "      <td>57</td>\n",
       "      <td>Nam</td>\n",
       "      <td>172</td>\n",
       "      <td>65.0</td>\n",
       "      <td>500</td>\n",
       "      <td>Iphone</td>\n",
       "      <td>Có</td>\n",
       "      <td>None</td>\n",
       "    </tr>\n",
       "    <tr>\n",
       "      <th>63</th>\n",
       "      <td>64</td>\n",
       "      <td>Nam</td>\n",
       "      <td>166</td>\n",
       "      <td>52.0</td>\n",
       "      <td>250</td>\n",
       "      <td>Redmi</td>\n",
       "      <td>Có</td>\n",
       "      <td>None</td>\n",
       "    </tr>\n",
       "    <tr>\n",
       "      <th>70</th>\n",
       "      <td>71</td>\n",
       "      <td>Nam</td>\n",
       "      <td>165</td>\n",
       "      <td>53.0</td>\n",
       "      <td>260</td>\n",
       "      <td>Redmi</td>\n",
       "      <td>Có</td>\n",
       "      <td>None</td>\n",
       "    </tr>\n",
       "  </tbody>\n",
       "</table>\n",
       "</div>"
      ],
      "text/plain": [
       "    STT Giới Tính  Chiều Cao  Cân Nặng  Toeic Hiệu Điện Thoại Làm ở SG Z-score\n",
       "0     1        Nữ        162      47.0    425         SamSung       Có    None\n",
       "7     8       Nam        167      50.0    295            OPPO       Có    None\n",
       "14   15       Nam        170      74.0    350         SamSung       Có    None\n",
       "21   22       Nam        170      55.0    500         SamSung       Có    None\n",
       "28   29       Nam        175      56.0    260         SamSung       Có    None\n",
       "35   36       Nam        170      52.0    700          Iphone       Có    None\n",
       "42   43        Nữ        168      52.0    230            OPPO    Không    None\n",
       "49   50       Nam        168      60.0    235          Realme       Có    None\n",
       "56   57       Nam        172      65.0    500          Iphone       Có    None\n",
       "63   64       Nam        166      52.0    250           Redmi       Có    None\n",
       "70   71       Nam        165      53.0    260           Redmi       Có    None"
      ]
     },
     "execution_count": 17,
     "metadata": {},
     "output_type": "execute_result"
    }
   ],
   "source": [
    "# Lấy các dòng mà số thứ tự chia hết cho 7\n",
    "sample = df[df.index % 7 == 0]\n",
    "\n",
    "# Thêm cột \"Z-score\" với giá trị mặc định là None hoặc NaN\n",
    "sample['Z-score'] = None\n",
    "\n",
    "# Tạo Bảng 2 với các cột từ dữ liệu được lấy mẫu\n",
    "bang_2 = sample[['STT', 'Giới Tính', 'Chiều Cao', 'Cân Nặng', 'Toeic', 'Hiệu Điện Thoại', 'Làm ở SG', 'Z-score']]\n",
    "\n",
    "# In Bảng 2\n",
    "print(\"Bảng 2 - Mẫu dữ liệu lấy theo phương pháp chia hết cho 7:\")\n",
    "bang_2"
   ]
  },
  {
   "cell_type": "markdown",
   "metadata": {},
   "source": [
    "### 8. Thực hiện tìm các tham số thống kê của tập mẫu (Bảng 2) và hoàn thành bảng số liệu sau: "
   ]
  },
  {
   "cell_type": "markdown",
   "metadata": {},
   "source": [
    "                    Giới tính\tChiều cao\tCân nặng\tToeic\tNơi làm việc    \n",
    "\n",
    "    Trung bình\t\t\t\t\n",
    "\n",
    "    Trung vị\t\t\t\t\t\n",
    "\n",
    "    Yếu vị\t\t\t\t\t\n",
    "\n",
    "    Phương sai\t\t\t\t\t\n",
    "\n",
    "    Độ lệch chuẩn\t\t\t\t\t\n",
    "\n",
    "    Miền giá trị\t\t\t\t\t\n"
   ]
  },
  {
   "cell_type": "code",
   "execution_count": 18,
   "metadata": {},
   "outputs": [
    {
     "data": {
      "text/html": [
       "<div>\n",
       "<style scoped>\n",
       "    .dataframe tbody tr th:only-of-type {\n",
       "        vertical-align: middle;\n",
       "    }\n",
       "\n",
       "    .dataframe tbody tr th {\n",
       "        vertical-align: top;\n",
       "    }\n",
       "\n",
       "    .dataframe thead th {\n",
       "        text-align: right;\n",
       "    }\n",
       "</style>\n",
       "<table border=\"1\" class=\"dataframe\">\n",
       "  <thead>\n",
       "    <tr style=\"text-align: right;\">\n",
       "      <th></th>\n",
       "      <th>Giới Tính</th>\n",
       "      <th>Chiều Cao</th>\n",
       "      <th>Cân Nặng</th>\n",
       "      <th>Toeic</th>\n",
       "      <th>Nơi làm việc</th>\n",
       "    </tr>\n",
       "  </thead>\n",
       "  <tbody>\n",
       "    <tr>\n",
       "      <th>0</th>\n",
       "      <td>Nữ</td>\n",
       "      <td>162</td>\n",
       "      <td>47.0</td>\n",
       "      <td>425</td>\n",
       "      <td>Có</td>\n",
       "    </tr>\n",
       "    <tr>\n",
       "      <th>7</th>\n",
       "      <td>Nam</td>\n",
       "      <td>167</td>\n",
       "      <td>50.0</td>\n",
       "      <td>295</td>\n",
       "      <td>Có</td>\n",
       "    </tr>\n",
       "    <tr>\n",
       "      <th>14</th>\n",
       "      <td>Nam</td>\n",
       "      <td>170</td>\n",
       "      <td>74.0</td>\n",
       "      <td>350</td>\n",
       "      <td>Có</td>\n",
       "    </tr>\n",
       "    <tr>\n",
       "      <th>21</th>\n",
       "      <td>Nam</td>\n",
       "      <td>170</td>\n",
       "      <td>55.0</td>\n",
       "      <td>500</td>\n",
       "      <td>Có</td>\n",
       "    </tr>\n",
       "    <tr>\n",
       "      <th>28</th>\n",
       "      <td>Nam</td>\n",
       "      <td>175</td>\n",
       "      <td>56.0</td>\n",
       "      <td>260</td>\n",
       "      <td>Có</td>\n",
       "    </tr>\n",
       "    <tr>\n",
       "      <th>35</th>\n",
       "      <td>Nam</td>\n",
       "      <td>170</td>\n",
       "      <td>52.0</td>\n",
       "      <td>700</td>\n",
       "      <td>Có</td>\n",
       "    </tr>\n",
       "    <tr>\n",
       "      <th>42</th>\n",
       "      <td>Nữ</td>\n",
       "      <td>168</td>\n",
       "      <td>52.0</td>\n",
       "      <td>230</td>\n",
       "      <td>Không</td>\n",
       "    </tr>\n",
       "    <tr>\n",
       "      <th>49</th>\n",
       "      <td>Nam</td>\n",
       "      <td>168</td>\n",
       "      <td>60.0</td>\n",
       "      <td>235</td>\n",
       "      <td>Có</td>\n",
       "    </tr>\n",
       "    <tr>\n",
       "      <th>56</th>\n",
       "      <td>Nam</td>\n",
       "      <td>172</td>\n",
       "      <td>65.0</td>\n",
       "      <td>500</td>\n",
       "      <td>Có</td>\n",
       "    </tr>\n",
       "    <tr>\n",
       "      <th>63</th>\n",
       "      <td>Nam</td>\n",
       "      <td>166</td>\n",
       "      <td>52.0</td>\n",
       "      <td>250</td>\n",
       "      <td>Có</td>\n",
       "    </tr>\n",
       "    <tr>\n",
       "      <th>70</th>\n",
       "      <td>Nam</td>\n",
       "      <td>165</td>\n",
       "      <td>53.0</td>\n",
       "      <td>260</td>\n",
       "      <td>Có</td>\n",
       "    </tr>\n",
       "  </tbody>\n",
       "</table>\n",
       "</div>"
      ],
      "text/plain": [
       "   Giới Tính  Chiều Cao  Cân Nặng  Toeic Nơi làm việc\n",
       "0         Nữ        162      47.0    425           Có\n",
       "7        Nam        167      50.0    295           Có\n",
       "14       Nam        170      74.0    350           Có\n",
       "21       Nam        170      55.0    500           Có\n",
       "28       Nam        175      56.0    260           Có\n",
       "35       Nam        170      52.0    700           Có\n",
       "42        Nữ        168      52.0    230        Không\n",
       "49       Nam        168      60.0    235           Có\n",
       "56       Nam        172      65.0    500           Có\n",
       "63       Nam        166      52.0    250           Có\n",
       "70       Nam        165      53.0    260           Có"
      ]
     },
     "execution_count": 18,
     "metadata": {},
     "output_type": "execute_result"
    }
   ],
   "source": [
    "# Tạo Bảng 2 với các cột từ dữ liệu được lấy mẫu\n",
    "bang_2 = sample[['Giới Tính', 'Chiều Cao', 'Cân Nặng', 'Toeic', 'Làm ở SG']]\n",
    "bang_2 = bang_2.rename(columns={'Làm ở SG': 'Nơi làm việc'})\n",
    "bang_2"
   ]
  },
  {
   "cell_type": "code",
   "execution_count": 86,
   "metadata": {},
   "outputs": [
    {
     "name": "stdout",
     "output_type": "stream",
     "text": [
      "=== Thống kê Chiều Cao ===\n",
      "Mean: 168.45454545454547\n",
      "Median: 168.0\n",
      "Mode: 170\n",
      "Variance: 12.47272727272727\n",
      "Standard Deviation: 3.531674853766591\n",
      "Range: (162, 175)\n",
      "\n",
      "=== Thống kê Cân Nặng ===\n",
      "Mean: 56.0\n",
      "Median: 53.0\n",
      "Mode: 52.0\n",
      "Variance: 59.6\n",
      "Standard Deviation: 7.720103626247513\n",
      "Range: (47.0, 74.0)\n",
      "\n",
      "=== Thống kê Toeic ===\n",
      "Mean: 364.09090909090907\n",
      "Median: 295.0\n",
      "Mode: 260\n",
      "Variance: 22779.090909090908\n",
      "Standard Deviation: 150.92743590577197\n",
      "Range: (230, 700)\n"
     ]
    }
   ],
   "source": [
    "# Tính các tham số thống kê\n",
    "\n",
    "# Chiều Cao\n",
    "height_mean = bang_2['Chiều Cao'].mean()\n",
    "height_median = bang_2['Chiều Cao'].median()\n",
    "height_mode = bang_2['Chiều Cao'].mode().iloc[0]\n",
    "height_var = bang_2['Chiều Cao'].var()\n",
    "height_std = bang_2['Chiều Cao'].std()\n",
    "height_range = (bang_2['Chiều Cao'].min(), bang_2['Chiều Cao'].max())\n",
    "\n",
    "# Cân Nặng\n",
    "weight_mean = bang_2['Cân Nặng'].mean()\n",
    "weight_median = bang_2['Cân Nặng'].median()\n",
    "weight_mode = bang_2['Cân Nặng'].mode().iloc[0]\n",
    "weight_var = bang_2['Cân Nặng'].var()\n",
    "weight_std = bang_2['Cân Nặng'].std()\n",
    "weight_range = (bang_2['Cân Nặng'].min(), bang_2['Cân Nặng'].max())\n",
    "\n",
    "# Toeic\n",
    "toeic_mean = bang_2['Toeic'].mean()\n",
    "toeic_median = bang_2['Toeic'].median()\n",
    "toeic_mode = bang_2['Toeic'].mode().iloc[0]\n",
    "toeic_var = bang_2['Toeic'].var()\n",
    "toeic_std = bang_2['Toeic'].std()\n",
    "toeic_range = (bang_2['Toeic'].min(), bang_2['Toeic'].max())\n",
    "\n",
    "# In kết quả\n",
    "\n",
    "# Chiều Cao\n",
    "print(\"=== Thống kê Chiều Cao ===\")\n",
    "print(\"Mean:\", height_mean)\n",
    "print(\"Median:\", height_median)\n",
    "print(\"Mode:\", height_mode)\n",
    "print(\"Variance:\", height_var)\n",
    "print(\"Standard Deviation:\", height_std)\n",
    "print(\"Range:\", height_range)\n",
    "print()\n",
    "\n",
    "# Cân Nặng\n",
    "print(\"=== Thống kê Cân Nặng ===\")\n",
    "print(\"Mean:\", weight_mean)\n",
    "print(\"Median:\", weight_median)\n",
    "print(\"Mode:\", weight_mode)\n",
    "print(\"Variance:\", weight_var)\n",
    "print(\"Standard Deviation:\", weight_std)\n",
    "print(\"Range:\", weight_range)\n",
    "print()\n",
    "\n",
    "# Toeic\n",
    "print(\"=== Thống kê Toeic ===\")\n",
    "print(\"Mean:\", toeic_mean)\n",
    "print(\"Median:\", toeic_median)\n",
    "print(\"Mode:\", toeic_mode)\n",
    "print(\"Variance:\", toeic_var)\n",
    "print(\"Standard Deviation:\", toeic_std)\n",
    "print(\"Range:\", toeic_range)"
   ]
  },
  {
   "cell_type": "code",
   "execution_count": null,
   "metadata": {},
   "outputs": [],
   "source": []
  }
 ],
 "metadata": {
  "kernelspec": {
   "display_name": "venv",
   "language": "python",
   "name": "python3"
  },
  "language_info": {
   "codemirror_mode": {
    "name": "ipython",
    "version": 3
   },
   "file_extension": ".py",
   "mimetype": "text/x-python",
   "name": "python",
   "nbconvert_exporter": "python",
   "pygments_lexer": "ipython3",
   "version": "3.11.5"
  }
 },
 "nbformat": 4,
 "nbformat_minor": 2
}
