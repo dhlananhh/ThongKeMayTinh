{
 "cells": [
  {
   "cell_type": "markdown",
   "metadata": {},
   "source": [
    "# ÔN TẬP KIỂM TRA THỰC HÀNH THỐNG KÊ MÁY TÍNH"
   ]
  },
  {
   "cell_type": "markdown",
   "metadata": {},
   "source": [
    "Import thư viện"
   ]
  },
  {
   "cell_type": "code",
   "execution_count": 1,
   "metadata": {},
   "outputs": [],
   "source": [
    "import numpy as np\n",
    "import pandas as pd\n",
    "import matplotlib.pyplot as plt"
   ]
  },
  {
   "cell_type": "markdown",
   "metadata": {},
   "source": [
    "### 1. Đọc dữ liệu và cho biết dữ liệu có bao nhiêu dòng, bao nhiêu cột\n",
    "\n",
    "Đáp án: (10 dòng, 5 cột)"
   ]
  },
  {
   "cell_type": "code",
   "execution_count": 2,
   "metadata": {},
   "outputs": [],
   "source": [
    "df = pd.read_csv('ds_salaries.csv')"
   ]
  },
  {
   "cell_type": "code",
   "execution_count": 3,
   "metadata": {},
   "outputs": [
    {
     "data": {
      "text/plain": [
       "(3755, 12)"
      ]
     },
     "execution_count": 3,
     "metadata": {},
     "output_type": "execute_result"
    }
   ],
   "source": [
    "# Kiểm tra dữ liệu có bao nhiêu dòng, bao nhiêu cột\n",
    "# Kích thước dữ liệu\n",
    "\n",
    "df.shape"
   ]
  },
  {
   "cell_type": "markdown",
   "metadata": {},
   "source": [
    "Dữ liệu có 3755 dòng và 12 cột"
   ]
  },
  {
   "cell_type": "markdown",
   "metadata": {},
   "source": [
    "### 2. Cho biết thuộc tính nào là thuộc tính phân loại, thuộc tính nào là thuộc tính định lượng"
   ]
  },
  {
   "cell_type": "code",
   "execution_count": 4,
   "metadata": {},
   "outputs": [
    {
     "data": {
      "text/plain": [
       "work_year               int64\n",
       "experience_years      float64\n",
       "experience_level       object\n",
       "employment_type        object\n",
       "job_title              object\n",
       "salary                  int64\n",
       "salary_currency        object\n",
       "salary_in_usd           int64\n",
       "employee_residence     object\n",
       "remote_ratio            int64\n",
       "company_location       object\n",
       "company_size           object\n",
       "dtype: object"
      ]
     },
     "execution_count": 4,
     "metadata": {},
     "output_type": "execute_result"
    }
   ],
   "source": [
    "# Kiểm tra kiểu dữ liệu của df\n",
    "df.dtypes"
   ]
  },
  {
   "cell_type": "code",
   "execution_count": 5,
   "metadata": {},
   "outputs": [],
   "source": [
    "# Phân loại dữ liệu\n",
    "categorical_attributes = df.select_dtypes(include=['object']).columns\n",
    "numerical_attributes = df.select_dtypes(include=['int64', 'float64']).columns"
   ]
  },
  {
   "cell_type": "code",
   "execution_count": 7,
   "metadata": {},
   "outputs": [
    {
     "name": "stdout",
     "output_type": "stream",
     "text": [
      "Thuộc tính phân loại: Index(['experience_level', 'employment_type', 'job_title', 'salary_currency',\n",
      "       'employee_residence', 'company_location', 'company_size'],\n",
      "      dtype='object')\n",
      "Thuộc tính định lượng: Index(['work_year', 'experience_years', 'salary', 'salary_in_usd',\n",
      "       'remote_ratio'],\n",
      "      dtype='object')\n"
     ]
    }
   ],
   "source": [
    "# Hiển thị kết quả\n",
    "print(\"Thuộc tính phân loại:\", categorical_attributes)\n",
    "print(\"Thuộc tính định lượng:\", numerical_attributes)"
   ]
  },
  {
   "cell_type": "markdown",
   "metadata": {},
   "source": [
    "### 3. Trong dữ liệu có thông tin của bao nhiêu người làm ngành IT?\n",
    "\n",
    "Đáp án: 3755 người"
   ]
  },
  {
   "cell_type": "code",
   "execution_count": 9,
   "metadata": {},
   "outputs": [
    {
     "name": "stdout",
     "output_type": "stream",
     "text": [
      "Số lượng người làm ngành IT là: 3755 người\n"
     ]
    }
   ],
   "source": [
    "num_employees = df.shape[0]\n",
    "print(f\"Số lượng người làm ngành IT là: {num_employees} người\")"
   ]
  },
  {
   "cell_type": "markdown",
   "metadata": {},
   "source": [
    "### 4. Đếm số nhân viên theo kinh nghiệm làm việc"
   ]
  },
  {
   "cell_type": "code",
   "execution_count": 21,
   "metadata": {},
   "outputs": [
    {
     "name": "stdout",
     "output_type": "stream",
     "text": [
      "experience_level\n",
      "SE    2516\n",
      "MI     805\n",
      "EN     320\n",
      "EX     114\n",
      "Name: count, dtype: int64\n"
     ]
    }
   ],
   "source": [
    "experience_level_count = df[\"experience_level\"].value_counts()\n",
    "print(experience_level_count)"
   ]
  },
  {
   "cell_type": "markdown",
   "metadata": {},
   "source": [
    "### 5. Đếm số nhân viên làm việc ở các quốc gia khác nhau"
   ]
  },
  {
   "cell_type": "code",
   "execution_count": 23,
   "metadata": {},
   "outputs": [
    {
     "name": "stdout",
     "output_type": "stream",
     "text": [
      "employee_residence\n",
      "US    3004\n",
      "GB     167\n",
      "CA      85\n",
      "ES      80\n",
      "IN      71\n",
      "      ... \n",
      "BA       1\n",
      "AM       1\n",
      "CY       1\n",
      "KW       1\n",
      "MT       1\n",
      "Name: count, Length: 78, dtype: int64\n"
     ]
    }
   ],
   "source": [
    "# Đếm số nhân viên đang làm việc tại mỗi quốc gia\n",
    "employee_count_by_country = df['employee_residence'].value_counts()\n",
    "\n",
    "# In kết quả ra màn hình\n",
    "print(employee_count_by_country)"
   ]
  },
  {
   "cell_type": "markdown",
   "metadata": {},
   "source": [
    "### 6. Tổng giá trị lương thực lãnh của tất cả nhân viên làm ngành IT\n",
    "\n",
    "Đáp án: 516576814 USD"
   ]
  },
  {
   "cell_type": "code",
   "execution_count": 12,
   "metadata": {},
   "outputs": [
    {
     "name": "stdout",
     "output_type": "stream",
     "text": [
      "Tổng giá trị lương thực lãnh của tất cả nhân viên làm ngành IT là: 516576814 USD\n"
     ]
    }
   ],
   "source": [
    "total_salaries = df[\"salary_in_usd\"].sum()\n",
    "print(f\"Tổng giá trị lương thực lãnh của tất cả nhân viên làm ngành IT là: {total_salaries} USD\")"
   ]
  },
  {
   "cell_type": "markdown",
   "metadata": {},
   "source": [
    "### 7. Top 3 vị trí công việc phổ biến nhất"
   ]
  },
  {
   "cell_type": "code",
   "execution_count": 22,
   "metadata": {},
   "outputs": [
    {
     "name": "stdout",
     "output_type": "stream",
     "text": [
      "Top 3 công việc phổ biến nhất\n",
      "job_title\n",
      "Data Engineer     1040\n",
      "Data Scientist     840\n",
      "Data Analyst       612\n",
      "Name: count, dtype: int64\n"
     ]
    }
   ],
   "source": [
    "# Nhóm dữ liệu theo cột 'job_title' và đếm số lượng người làm trong mỗi nhóm\n",
    "job_count = df['job_title'].value_counts()\n",
    "\n",
    "# Lấy ra top 3 chức danh công việc có số lượng người làm nhiều nhất\n",
    "top_3_jobs = job_count.head(3)\n",
    "\n",
    "# In ra kết quả\n",
    "print(\"Top 3 vị trí công việc phổ biến nhất\")\n",
    "print(top_3_jobs)"
   ]
  },
  {
   "cell_type": "markdown",
   "metadata": {},
   "source": [
    "### 8. Top 3 vị trí công việc có mức lương trung bình cao nhất"
   ]
  },
  {
   "cell_type": "code",
   "execution_count": 24,
   "metadata": {},
   "outputs": [
    {
     "name": "stdout",
     "output_type": "stream",
     "text": [
      "Top 3 vị trí công việc có mức lương trung bình cao nhất\n",
      "job_title\n",
      "Data Science Tech Lead    375000.0\n",
      "Cloud Data Architect      250000.0\n",
      "Data Lead                 212500.0\n",
      "Name: salary_in_usd, dtype: float64\n"
     ]
    }
   ],
   "source": [
    "# Tính mức lương trung bình cho mỗi vị trí công việc\n",
    "average_salary_by_job = df.groupby('job_title')['salary_in_usd'].mean()\n",
    "\n",
    "# Sắp xếp dữ liệu theo mức lương trung bình giảm dần\n",
    "sorted_data_salaries = average_salary_by_job.sort_values(ascending=False)\n",
    "\n",
    "# Lấy top 3 vị trí công việc có mức lương trung bình cao nhất\n",
    "top_3_jobs = sorted_data_salaries.head(3)\n",
    "\n",
    "# In ra kết quả\n",
    "print(\"Top 3 vị trí công việc có mức lương trung bình cao nhất\")\n",
    "print(top_3_jobs)"
   ]
  },
  {
   "cell_type": "markdown",
   "metadata": {},
   "source": [
    "### 9. Khảo sát vị trí công việc ngành IT"
   ]
  }
 ],
 "metadata": {
  "kernelspec": {
   "display_name": "venv",
   "language": "python",
   "name": "python3"
  },
  "language_info": {
   "codemirror_mode": {
    "name": "ipython",
    "version": 3
   },
   "file_extension": ".py",
   "mimetype": "text/x-python",
   "name": "python",
   "nbconvert_exporter": "python",
   "pygments_lexer": "ipython3",
   "version": "3.11.5"
  }
 },
 "nbformat": 4,
 "nbformat_minor": 2
}
