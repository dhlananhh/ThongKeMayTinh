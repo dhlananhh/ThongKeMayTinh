{
 "cells": [
  {
   "cell_type": "markdown",
   "metadata": {},
   "source": [
    "# "
   ]
  },
  {
   "cell_type": "markdown",
   "metadata": {},
   "source": [
    "# BÀI TẬP LÝ THUYẾT TUẦN 2 \n",
    "# MÔN THỐNG KÊ MÁY TÍNH"
   ]
  },
  {
   "cell_type": "markdown",
   "metadata": {},
   "source": [
    "Import thư viện"
   ]
  },
  {
   "cell_type": "code",
   "execution_count": 1,
   "metadata": {},
   "outputs": [],
   "source": [
    "import numpy as np\n",
    "import pandas as pd\n",
    "import matplotlib.pyplot as plt\n",
    "import seaborn as sns"
   ]
  },
  {
   "cell_type": "markdown",
   "metadata": {},
   "source": [
    "## Đọc và khám phá dữ liệu"
   ]
  },
  {
   "cell_type": "markdown",
   "metadata": {},
   "source": [
    "Đọc dữ liệu"
   ]
  },
  {
   "cell_type": "code",
   "execution_count": 4,
   "metadata": {},
   "outputs": [
    {
     "name": "stderr",
     "output_type": "stream",
     "text": [
      "e:\\LAP TRINH PYTHON\\THONG KE MAY TINH\\venv\\Lib\\site-packages\\openpyxl\\worksheet\\_reader.py:329: UserWarning: Unknown extension is not supported and will be removed\n",
      "  warn(msg)\n"
     ]
    }
   ],
   "source": [
    "file_path = '../data/DataSet01_KSSV.xlsx'\n",
    "df = pd.read_excel(file_path)"
   ]
  },
  {
   "cell_type": "markdown",
   "metadata": {},
   "source": [
    "Hiển thị 5 dòng dữ liệu đầu tiên"
   ]
  },
  {
   "cell_type": "code",
   "execution_count": 5,
   "metadata": {},
   "outputs": [
    {
     "data": {
      "text/html": [
       "<div>\n",
       "<style scoped>\n",
       "    .dataframe tbody tr th:only-of-type {\n",
       "        vertical-align: middle;\n",
       "    }\n",
       "\n",
       "    .dataframe tbody tr th {\n",
       "        vertical-align: top;\n",
       "    }\n",
       "\n",
       "    .dataframe thead th {\n",
       "        text-align: right;\n",
       "    }\n",
       "</style>\n",
       "<table border=\"1\" class=\"dataframe\">\n",
       "  <thead>\n",
       "    <tr style=\"text-align: right;\">\n",
       "      <th></th>\n",
       "      <th>Dấu thời gian</th>\n",
       "      <th>1.Mã Sinh viên</th>\n",
       "      <th>2. Nhóm học</th>\n",
       "      <th>3. Giới tính</th>\n",
       "      <th>4. Chiều cao? (đơn vị mét, định dạng n.m, Ví dụ 1.67)</th>\n",
       "      <th>5. Cân nặng (đơn vị kg, định dạng n.m. Ví dụ 46.5)</th>\n",
       "      <th>6. Học online bằng thiết bị nào?</th>\n",
       "      <th>7. Hiệu (loại) điện thoại đang dùng? (Ví dụ: IPhone)</th>\n",
       "    </tr>\n",
       "  </thead>\n",
       "  <tbody>\n",
       "    <tr>\n",
       "      <th>0</th>\n",
       "      <td>2023-12-29 08:17:49.204</td>\n",
       "      <td>21071241</td>\n",
       "      <td>Thứ 6, tiết 1-3</td>\n",
       "      <td>Nam</td>\n",
       "      <td>1.69</td>\n",
       "      <td>73.0</td>\n",
       "      <td>Laptop</td>\n",
       "      <td>Vsmart</td>\n",
       "    </tr>\n",
       "    <tr>\n",
       "      <th>1</th>\n",
       "      <td>2023-12-29 08:17:50.737</td>\n",
       "      <td>21133891</td>\n",
       "      <td>Thứ 6, tiết 1-3</td>\n",
       "      <td>Nam</td>\n",
       "      <td>2023-07-01 00:00:00</td>\n",
       "      <td>60.0</td>\n",
       "      <td>Laptop</td>\n",
       "      <td>Dell</td>\n",
       "    </tr>\n",
       "    <tr>\n",
       "      <th>2</th>\n",
       "      <td>2023-12-29 08:17:59.217</td>\n",
       "      <td>22727721</td>\n",
       "      <td>Thứ 6, tiết 1-3</td>\n",
       "      <td>Nam</td>\n",
       "      <td>1.75</td>\n",
       "      <td>53.0</td>\n",
       "      <td>Laptop</td>\n",
       "      <td>Apple</td>\n",
       "    </tr>\n",
       "    <tr>\n",
       "      <th>3</th>\n",
       "      <td>2023-12-29 08:18:02.681</td>\n",
       "      <td>21091031</td>\n",
       "      <td>Thứ 6, tiết 1-3</td>\n",
       "      <td>Nam</td>\n",
       "      <td>1.76</td>\n",
       "      <td>90.0</td>\n",
       "      <td>Laptop</td>\n",
       "      <td>xiaomi</td>\n",
       "    </tr>\n",
       "    <tr>\n",
       "      <th>4</th>\n",
       "      <td>2023-12-29 08:18:03.757</td>\n",
       "      <td>21088941</td>\n",
       "      <td>Thứ 6, tiết 1-3</td>\n",
       "      <td>Nam</td>\n",
       "      <td>1.7</td>\n",
       "      <td>95.0</td>\n",
       "      <td>Laptop</td>\n",
       "      <td>Samsung</td>\n",
       "    </tr>\n",
       "  </tbody>\n",
       "</table>\n",
       "</div>"
      ],
      "text/plain": [
       "            Dấu thời gian  1.Mã Sinh viên      2. Nhóm học 3. Giới tính  \\\n",
       "0 2023-12-29 08:17:49.204        21071241  Thứ 6, tiết 1-3          Nam   \n",
       "1 2023-12-29 08:17:50.737        21133891  Thứ 6, tiết 1-3          Nam   \n",
       "2 2023-12-29 08:17:59.217        22727721  Thứ 6, tiết 1-3          Nam   \n",
       "3 2023-12-29 08:18:02.681        21091031  Thứ 6, tiết 1-3          Nam   \n",
       "4 2023-12-29 08:18:03.757        21088941  Thứ 6, tiết 1-3          Nam   \n",
       "\n",
       "  4. Chiều cao? (đơn vị mét, định dạng n.m, Ví dụ 1.67)  \\\n",
       "0                                               1.69      \n",
       "1                                2023-07-01 00:00:00      \n",
       "2                                               1.75      \n",
       "3                                               1.76      \n",
       "4                                                1.7      \n",
       "\n",
       "   5. Cân nặng (đơn vị kg, định dạng n.m. Ví dụ 46.5)  \\\n",
       "0                                               73.0    \n",
       "1                                               60.0    \n",
       "2                                               53.0    \n",
       "3                                               90.0    \n",
       "4                                               95.0    \n",
       "\n",
       "  6. Học online bằng thiết bị nào?  \\\n",
       "0                           Laptop   \n",
       "1                           Laptop   \n",
       "2                           Laptop   \n",
       "3                           Laptop   \n",
       "4                           Laptop   \n",
       "\n",
       "  7. Hiệu (loại) điện thoại đang dùng? (Ví dụ: IPhone)  \n",
       "0                                             Vsmart    \n",
       "1                                               Dell    \n",
       "2                                              Apple    \n",
       "3                                             xiaomi    \n",
       "4                                            Samsung    "
      ]
     },
     "execution_count": 5,
     "metadata": {},
     "output_type": "execute_result"
    }
   ],
   "source": [
    "df.head()"
   ]
  },
  {
   "cell_type": "markdown",
   "metadata": {},
   "source": [
    "Hiển thị 5 dòng dữ liệu cuối cùng"
   ]
  },
  {
   "cell_type": "code",
   "execution_count": 6,
   "metadata": {},
   "outputs": [
    {
     "data": {
      "text/html": [
       "<div>\n",
       "<style scoped>\n",
       "    .dataframe tbody tr th:only-of-type {\n",
       "        vertical-align: middle;\n",
       "    }\n",
       "\n",
       "    .dataframe tbody tr th {\n",
       "        vertical-align: top;\n",
       "    }\n",
       "\n",
       "    .dataframe thead th {\n",
       "        text-align: right;\n",
       "    }\n",
       "</style>\n",
       "<table border=\"1\" class=\"dataframe\">\n",
       "  <thead>\n",
       "    <tr style=\"text-align: right;\">\n",
       "      <th></th>\n",
       "      <th>Dấu thời gian</th>\n",
       "      <th>1.Mã Sinh viên</th>\n",
       "      <th>2. Nhóm học</th>\n",
       "      <th>3. Giới tính</th>\n",
       "      <th>4. Chiều cao? (đơn vị mét, định dạng n.m, Ví dụ 1.67)</th>\n",
       "      <th>5. Cân nặng (đơn vị kg, định dạng n.m. Ví dụ 46.5)</th>\n",
       "      <th>6. Học online bằng thiết bị nào?</th>\n",
       "      <th>7. Hiệu (loại) điện thoại đang dùng? (Ví dụ: IPhone)</th>\n",
       "    </tr>\n",
       "  </thead>\n",
       "  <tbody>\n",
       "    <tr>\n",
       "      <th>118</th>\n",
       "      <td>2023-12-30 12:49:00.840</td>\n",
       "      <td>21010861</td>\n",
       "      <td>Thứ 7, tiết 7-9</td>\n",
       "      <td>Nam</td>\n",
       "      <td>1.7</td>\n",
       "      <td>49.0</td>\n",
       "      <td>Laptop</td>\n",
       "      <td>Iphone</td>\n",
       "    </tr>\n",
       "    <tr>\n",
       "      <th>119</th>\n",
       "      <td>2023-12-30 12:49:16.318</td>\n",
       "      <td>21062471</td>\n",
       "      <td>Thứ 7, tiết 7-9</td>\n",
       "      <td>Nam</td>\n",
       "      <td>1.70</td>\n",
       "      <td>54.5</td>\n",
       "      <td>Laptop</td>\n",
       "      <td>Oppo</td>\n",
       "    </tr>\n",
       "    <tr>\n",
       "      <th>120</th>\n",
       "      <td>2023-12-30 12:49:29.645</td>\n",
       "      <td>22662381</td>\n",
       "      <td>Thứ 7, tiết 7-9</td>\n",
       "      <td>Nam</td>\n",
       "      <td>1.75</td>\n",
       "      <td>66.0</td>\n",
       "      <td>Laptop</td>\n",
       "      <td>Acer</td>\n",
       "    </tr>\n",
       "    <tr>\n",
       "      <th>121</th>\n",
       "      <td>2023-12-30 13:14:54.174</td>\n",
       "      <td>21078061</td>\n",
       "      <td>Thứ 7, tiết 7-9</td>\n",
       "      <td>Nam</td>\n",
       "      <td>1.78</td>\n",
       "      <td>60.0</td>\n",
       "      <td>Laptop</td>\n",
       "      <td>IPhone</td>\n",
       "    </tr>\n",
       "    <tr>\n",
       "      <th>122</th>\n",
       "      <td>2023-12-30 13:20:53.718</td>\n",
       "      <td>21124951</td>\n",
       "      <td>Thứ 7, tiết 7-9</td>\n",
       "      <td>Nam</td>\n",
       "      <td>1.72</td>\n",
       "      <td>63.0</td>\n",
       "      <td>Laptop</td>\n",
       "      <td>Redmi</td>\n",
       "    </tr>\n",
       "  </tbody>\n",
       "</table>\n",
       "</div>"
      ],
      "text/plain": [
       "              Dấu thời gian  1.Mã Sinh viên      2. Nhóm học 3. Giới tính  \\\n",
       "118 2023-12-30 12:49:00.840        21010861  Thứ 7, tiết 7-9          Nam   \n",
       "119 2023-12-30 12:49:16.318        21062471  Thứ 7, tiết 7-9          Nam   \n",
       "120 2023-12-30 12:49:29.645        22662381  Thứ 7, tiết 7-9          Nam   \n",
       "121 2023-12-30 13:14:54.174        21078061  Thứ 7, tiết 7-9          Nam   \n",
       "122 2023-12-30 13:20:53.718        21124951  Thứ 7, tiết 7-9          Nam   \n",
       "\n",
       "    4. Chiều cao? (đơn vị mét, định dạng n.m, Ví dụ 1.67)  \\\n",
       "118                                                1.7      \n",
       "119                                               1.70      \n",
       "120                                               1.75      \n",
       "121                                               1.78      \n",
       "122                                               1.72      \n",
       "\n",
       "     5. Cân nặng (đơn vị kg, định dạng n.m. Ví dụ 46.5)  \\\n",
       "118                                               49.0    \n",
       "119                                               54.5    \n",
       "120                                               66.0    \n",
       "121                                               60.0    \n",
       "122                                               63.0    \n",
       "\n",
       "    6. Học online bằng thiết bị nào?  \\\n",
       "118                           Laptop   \n",
       "119                           Laptop   \n",
       "120                           Laptop   \n",
       "121                           Laptop   \n",
       "122                           Laptop   \n",
       "\n",
       "    7. Hiệu (loại) điện thoại đang dùng? (Ví dụ: IPhone)  \n",
       "118                                             Iphone    \n",
       "119                                               Oppo    \n",
       "120                                               Acer    \n",
       "121                                             IPhone    \n",
       "122                                             Redmi     "
      ]
     },
     "execution_count": 6,
     "metadata": {},
     "output_type": "execute_result"
    }
   ],
   "source": [
    "df.tail()"
   ]
  },
  {
   "cell_type": "markdown",
   "metadata": {},
   "source": [
    "Kiểm tra dữ liệu có bị thiếu không"
   ]
  },
  {
   "cell_type": "code",
   "execution_count": 7,
   "metadata": {},
   "outputs": [
    {
     "data": {
      "text/plain": [
       "Dấu thời gian                                            0\n",
       "1.Mã Sinh viên                                           0\n",
       "2. Nhóm học                                              0\n",
       "3. Giới tính                                             0\n",
       "4. Chiều cao? (đơn vị mét, định dạng n.m, Ví dụ 1.67)    0\n",
       "5. Cân nặng (đơn vị kg, định dạng n.m. Ví dụ 46.5)       0\n",
       "6. Học online bằng thiết bị nào?                         0\n",
       "7. Hiệu (loại) điện thoại đang dùng? (Ví dụ: IPhone)     0\n",
       "dtype: int64"
      ]
     },
     "execution_count": 7,
     "metadata": {},
     "output_type": "execute_result"
    }
   ],
   "source": [
    "df.isnull().sum()"
   ]
  },
  {
   "cell_type": "markdown",
   "metadata": {},
   "source": [
    "Đổi tên cột"
   ]
  },
  {
   "cell_type": "code",
   "execution_count": 11,
   "metadata": {},
   "outputs": [],
   "source": [
    "df.rename(columns={\n",
    "    'Dấu thời gian': 'Timestamp',\n",
    "    '1.Mã Sinh viên': 'Student ID',\n",
    "    '2. Nhóm học': 'Class Info',\n",
    "    '3. Giới tính': 'Gender',\n",
    "    '4. Chiều cao? (đơn vị mét, định dạng n.m, Ví dụ 1.67)': 'Height',\n",
    "    '5. Cân nặng (đơn vị kg, định dạng n.m. Ví dụ 46.5)': 'Weight',\n",
    "    '6. Học online bằng thiết bị nào?': 'Device',\n",
    "    '7. Hiệu (loại) điện thoại đang dùng? (Ví dụ: IPhone)': 'Phone'\n",
    "}, inplace=True)"
   ]
  },
  {
   "cell_type": "code",
   "execution_count": 12,
   "metadata": {},
   "outputs": [
    {
     "data": {
      "text/html": [
       "<div>\n",
       "<style scoped>\n",
       "    .dataframe tbody tr th:only-of-type {\n",
       "        vertical-align: middle;\n",
       "    }\n",
       "\n",
       "    .dataframe tbody tr th {\n",
       "        vertical-align: top;\n",
       "    }\n",
       "\n",
       "    .dataframe thead th {\n",
       "        text-align: right;\n",
       "    }\n",
       "</style>\n",
       "<table border=\"1\" class=\"dataframe\">\n",
       "  <thead>\n",
       "    <tr style=\"text-align: right;\">\n",
       "      <th></th>\n",
       "      <th>Timestamp</th>\n",
       "      <th>Student ID</th>\n",
       "      <th>Class Info</th>\n",
       "      <th>Gender</th>\n",
       "      <th>Height</th>\n",
       "      <th>Weight</th>\n",
       "      <th>Device</th>\n",
       "      <th>Phone</th>\n",
       "    </tr>\n",
       "  </thead>\n",
       "  <tbody>\n",
       "    <tr>\n",
       "      <th>0</th>\n",
       "      <td>2023-12-29 08:17:49.204</td>\n",
       "      <td>21071241</td>\n",
       "      <td>Thứ 6, tiết 1-3</td>\n",
       "      <td>Nam</td>\n",
       "      <td>1.69</td>\n",
       "      <td>73.0</td>\n",
       "      <td>Laptop</td>\n",
       "      <td>Vsmart</td>\n",
       "    </tr>\n",
       "    <tr>\n",
       "      <th>1</th>\n",
       "      <td>2023-12-29 08:17:50.737</td>\n",
       "      <td>21133891</td>\n",
       "      <td>Thứ 6, tiết 1-3</td>\n",
       "      <td>Nam</td>\n",
       "      <td>2023-07-01 00:00:00</td>\n",
       "      <td>60.0</td>\n",
       "      <td>Laptop</td>\n",
       "      <td>Dell</td>\n",
       "    </tr>\n",
       "    <tr>\n",
       "      <th>2</th>\n",
       "      <td>2023-12-29 08:17:59.217</td>\n",
       "      <td>22727721</td>\n",
       "      <td>Thứ 6, tiết 1-3</td>\n",
       "      <td>Nam</td>\n",
       "      <td>1.75</td>\n",
       "      <td>53.0</td>\n",
       "      <td>Laptop</td>\n",
       "      <td>Apple</td>\n",
       "    </tr>\n",
       "    <tr>\n",
       "      <th>3</th>\n",
       "      <td>2023-12-29 08:18:02.681</td>\n",
       "      <td>21091031</td>\n",
       "      <td>Thứ 6, tiết 1-3</td>\n",
       "      <td>Nam</td>\n",
       "      <td>1.76</td>\n",
       "      <td>90.0</td>\n",
       "      <td>Laptop</td>\n",
       "      <td>xiaomi</td>\n",
       "    </tr>\n",
       "    <tr>\n",
       "      <th>4</th>\n",
       "      <td>2023-12-29 08:18:03.757</td>\n",
       "      <td>21088941</td>\n",
       "      <td>Thứ 6, tiết 1-3</td>\n",
       "      <td>Nam</td>\n",
       "      <td>1.7</td>\n",
       "      <td>95.0</td>\n",
       "      <td>Laptop</td>\n",
       "      <td>Samsung</td>\n",
       "    </tr>\n",
       "    <tr>\n",
       "      <th>...</th>\n",
       "      <td>...</td>\n",
       "      <td>...</td>\n",
       "      <td>...</td>\n",
       "      <td>...</td>\n",
       "      <td>...</td>\n",
       "      <td>...</td>\n",
       "      <td>...</td>\n",
       "      <td>...</td>\n",
       "    </tr>\n",
       "    <tr>\n",
       "      <th>118</th>\n",
       "      <td>2023-12-30 12:49:00.840</td>\n",
       "      <td>21010861</td>\n",
       "      <td>Thứ 7, tiết 7-9</td>\n",
       "      <td>Nam</td>\n",
       "      <td>1.7</td>\n",
       "      <td>49.0</td>\n",
       "      <td>Laptop</td>\n",
       "      <td>Iphone</td>\n",
       "    </tr>\n",
       "    <tr>\n",
       "      <th>119</th>\n",
       "      <td>2023-12-30 12:49:16.318</td>\n",
       "      <td>21062471</td>\n",
       "      <td>Thứ 7, tiết 7-9</td>\n",
       "      <td>Nam</td>\n",
       "      <td>1.70</td>\n",
       "      <td>54.5</td>\n",
       "      <td>Laptop</td>\n",
       "      <td>Oppo</td>\n",
       "    </tr>\n",
       "    <tr>\n",
       "      <th>120</th>\n",
       "      <td>2023-12-30 12:49:29.645</td>\n",
       "      <td>22662381</td>\n",
       "      <td>Thứ 7, tiết 7-9</td>\n",
       "      <td>Nam</td>\n",
       "      <td>1.75</td>\n",
       "      <td>66.0</td>\n",
       "      <td>Laptop</td>\n",
       "      <td>Acer</td>\n",
       "    </tr>\n",
       "    <tr>\n",
       "      <th>121</th>\n",
       "      <td>2023-12-30 13:14:54.174</td>\n",
       "      <td>21078061</td>\n",
       "      <td>Thứ 7, tiết 7-9</td>\n",
       "      <td>Nam</td>\n",
       "      <td>1.78</td>\n",
       "      <td>60.0</td>\n",
       "      <td>Laptop</td>\n",
       "      <td>IPhone</td>\n",
       "    </tr>\n",
       "    <tr>\n",
       "      <th>122</th>\n",
       "      <td>2023-12-30 13:20:53.718</td>\n",
       "      <td>21124951</td>\n",
       "      <td>Thứ 7, tiết 7-9</td>\n",
       "      <td>Nam</td>\n",
       "      <td>1.72</td>\n",
       "      <td>63.0</td>\n",
       "      <td>Laptop</td>\n",
       "      <td>Redmi</td>\n",
       "    </tr>\n",
       "  </tbody>\n",
       "</table>\n",
       "<p>123 rows × 8 columns</p>\n",
       "</div>"
      ],
      "text/plain": [
       "                  Timestamp  Student ID       Class Info Gender  \\\n",
       "0   2023-12-29 08:17:49.204    21071241  Thứ 6, tiết 1-3    Nam   \n",
       "1   2023-12-29 08:17:50.737    21133891  Thứ 6, tiết 1-3    Nam   \n",
       "2   2023-12-29 08:17:59.217    22727721  Thứ 6, tiết 1-3    Nam   \n",
       "3   2023-12-29 08:18:02.681    21091031  Thứ 6, tiết 1-3    Nam   \n",
       "4   2023-12-29 08:18:03.757    21088941  Thứ 6, tiết 1-3    Nam   \n",
       "..                      ...         ...              ...    ...   \n",
       "118 2023-12-30 12:49:00.840    21010861  Thứ 7, tiết 7-9    Nam   \n",
       "119 2023-12-30 12:49:16.318    21062471  Thứ 7, tiết 7-9    Nam   \n",
       "120 2023-12-30 12:49:29.645    22662381  Thứ 7, tiết 7-9    Nam   \n",
       "121 2023-12-30 13:14:54.174    21078061  Thứ 7, tiết 7-9    Nam   \n",
       "122 2023-12-30 13:20:53.718    21124951  Thứ 7, tiết 7-9    Nam   \n",
       "\n",
       "                  Height  Weight  Device    Phone  \n",
       "0                   1.69    73.0  Laptop   Vsmart  \n",
       "1    2023-07-01 00:00:00    60.0  Laptop     Dell  \n",
       "2                   1.75    53.0  Laptop    Apple  \n",
       "3                   1.76    90.0  Laptop   xiaomi  \n",
       "4                    1.7    95.0  Laptop  Samsung  \n",
       "..                   ...     ...     ...      ...  \n",
       "118                  1.7    49.0  Laptop   Iphone  \n",
       "119                 1.70    54.5  Laptop     Oppo  \n",
       "120                 1.75    66.0  Laptop     Acer  \n",
       "121                 1.78    60.0  Laptop   IPhone  \n",
       "122                 1.72    63.0  Laptop   Redmi   \n",
       "\n",
       "[123 rows x 8 columns]"
      ]
     },
     "execution_count": 12,
     "metadata": {},
     "output_type": "execute_result"
    }
   ],
   "source": [
    "df"
   ]
  },
  {
   "cell_type": "markdown",
   "metadata": {},
   "source": [
    "## Trực quan hóa dữ liệu"
   ]
  },
  {
   "cell_type": "code",
   "execution_count": 18,
   "metadata": {},
   "outputs": [
    {
     "data": {
      "text/plain": [
       "[]"
      ]
     },
     "execution_count": 18,
     "metadata": {},
     "output_type": "execute_result"
    },
    {
     "data": {
      "image/png": "[encoded data removed]",
      "text/plain": [
       "<Figure size 640x480 with 1 Axes>"
      ]
     },
     "metadata": {},
     "output_type": "display_data"
    }
   ],
   "source": [
    "plt.hist(x=df['Height'], color='c')\n",
    "plt.title('Chiều cao ở SV')\n",
    "plt.xlabel('Chiều cao')\n",
    "plt.ylabel('Số lượng')\n",
    "plt.plot()"
   ]
  },
  {
   "cell_type": "markdown",
   "metadata": {},
   "source": [
    "**Nhận xét:**\n",
    "Ta có thể thấy chiều cao trung bình ở sinh viên là từ 1m7 đến 1m75"
   ]
  },
  {
   "cell_type": "code",
   "execution_count": 19,
   "metadata": {},
   "outputs": [
    {
     "data": {
      "text/plain": [
       "[]"
      ]
     },
     "execution_count": 19,
     "metadata": {},
     "output_type": "execute_result"
    },
    {
     "data": {
      "image/png": "[encoded data removed]",
      "text/plain": [
       "<Figure size 640x480 with 1 Axes>"
      ]
     },
     "metadata": {},
     "output_type": "display_data"
    }
   ],
   "source": [
    "plt.hist(x=df['Weight'], color='c')\n",
    "plt.title('Cân nặng ở SV')\n",
    "plt.xlabel('Cân nặng')\n",
    "plt.ylabel('Số lượng')\n",
    "plt.plot()"
   ]
  },
  {
   "cell_type": "markdown",
   "metadata": {},
   "source": [
    "**Nhận xét:**\n",
    "Ta có thể thấy cân nặng trung bình ở sinh viên là từ 50kg đến 60kg"
   ]
  },
  {
   "cell_type": "code",
   "execution_count": 24,
   "metadata": {},
   "outputs": [
    {
     "data": {
      "text/plain": [
       "[]"
      ]
     },
     "execution_count": 24,
     "metadata": {},
     "output_type": "execute_result"
    },
    {
     "data": {
      "image/png": "[encoded data removed]",
      "text/plain": [
       "<Figure size 640x480 with 1 Axes>"
      ]
     },
     "metadata": {},
     "output_type": "display_data"
    }
   ],
   "source": [
    "plt.hist(x=df['Gender'], color='c')\n",
    "plt.title('Giới tính ở SV')\n",
    "plt.xlabel('Giới tính')\n",
    "plt.ylabel('Số lượng')\n",
    "plt.plot()"
   ]
  }
 ],
 "metadata": {
  "kernelspec": {
   "display_name": "venv",
   "language": "python",
   "name": "python3"
  },
  "language_info": {
   "codemirror_mode": {
    "name": "ipython",
    "version": 3
   },
   "file_extension": ".py",
   "mimetype": "text/x-python",
   "name": "python",
   "nbconvert_exporter": "python",
   "pygments_lexer": "ipython3",
   "version": "3.11.5"
  }
 },
 "nbformat": 4,
 "nbformat_minor": 2
}
