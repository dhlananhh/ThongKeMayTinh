{
 "cells": [
  {
   "cell_type": "markdown",
   "metadata": {},
   "source": [
    "# CAR-SALES dataset\n",
    "\n",
    "Dữ liệu `car-sales.csv`: bộ dữ liệu chứa thông tin các ôtô cũ ở một cửa hàng bán ô tô cũ. \n",
    "\n",
    "Bạn hãy thực hiện các yêu cầu sau:\n"
   ]
  },
  {
   "cell_type": "markdown",
   "metadata": {},
   "source": [
    "### 1. Đọc dữ liệu và cho biết dữ liệu có bao nhiêu dòng, bao nhiêu cột\n",
    "\n",
    "Đáp án: (10 dòng, 5 cột)"
   ]
  },
  {
   "cell_type": "markdown",
   "metadata": {},
   "source": [
    "Import thư viện"
   ]
  },
  {
   "cell_type": "code",
   "execution_count": 1,
   "metadata": {},
   "outputs": [],
   "source": [
    "import pandas as pd\n",
    "import numpy as np\n",
    "import matplotlib.pyplot as plt"
   ]
  },
  {
   "cell_type": "code",
   "execution_count": 2,
   "metadata": {},
   "outputs": [],
   "source": [
    "cars = pd.read_csv('../data/car-sales.csv')"
   ]
  },
  {
   "cell_type": "code",
   "execution_count": 3,
   "metadata": {},
   "outputs": [
    {
     "data": {
      "text/plain": [
       "(10, 5)"
      ]
     },
     "execution_count": 3,
     "metadata": {},
     "output_type": "execute_result"
    }
   ],
   "source": [
    "# Kích thước dữ liệu cars\n",
    "cars.shape"
   ]
  },
  {
   "cell_type": "markdown",
   "metadata": {},
   "source": [
    "### 2. Cho biết thuộc tính nào là thuộc tính phân loại, thuộc tính nào là thuộc tính định lượng"
   ]
  },
  {
   "cell_type": "code",
   "execution_count": 4,
   "metadata": {},
   "outputs": [
    {
     "data": {
      "text/plain": [
       "Manufacturer     object\n",
       "Colour           object\n",
       "Odometer          int64\n",
       "Doors             int64\n",
       "Price           float64\n",
       "dtype: object"
      ]
     },
     "execution_count": 4,
     "metadata": {},
     "output_type": "execute_result"
    }
   ],
   "source": [
    "# Kt kiểu DL của cars\n",
    "cars.dtypes"
   ]
  },
  {
   "cell_type": "code",
   "execution_count": 5,
   "metadata": {},
   "outputs": [],
   "source": [
    "# Phân loại dữ liệu\n",
    "categorical_cars_attributes = cars.select_dtypes(include=['object']).columns\n",
    "numerical_cars_attributes = cars.select_dtypes(include=['int64', 'float64']).columns"
   ]
  },
  {
   "cell_type": "code",
   "execution_count": 6,
   "metadata": {},
   "outputs": [
    {
     "name": "stdout",
     "output_type": "stream",
     "text": [
      "Thuộc tính phân loại: Index(['Manufacturer', 'Colour'], dtype='object')\n",
      "Thuộc tính định lượng: Index(['Odometer', 'Doors', 'Price'], dtype='object')\n"
     ]
    }
   ],
   "source": [
    "# Hiển thị kết quả\n",
    "print(\"Thuộc tính phân loại:\", categorical_cars_attributes)\n",
    "print(\"Thuộc tính định lượng:\", numerical_cars_attributes)"
   ]
  },
  {
   "cell_type": "markdown",
   "metadata": {},
   "source": [
    "### 3. Trong dữ liệu có thông tin của bao nhiêu xe?\n",
    "\n",
    "Đáp án: 10 xe"
   ]
  },
  {
   "cell_type": "code",
   "execution_count": 56,
   "metadata": {},
   "outputs": [
    {
     "name": "stdout",
     "output_type": "stream",
     "text": [
      "Số lượng xe: 10\n"
     ]
    }
   ],
   "source": [
    "num_cars = cars.shape[0]\n",
    "print(f\"Số lượng xe: {num_cars}\")"
   ]
  },
  {
   "cell_type": "markdown",
   "metadata": {},
   "source": [
    "### 4. Đếm số xe theo theo hãng\n",
    "\n",
    "Đáp án: Toyota: 10 xe, Honda: 3 xe, Nissan: 2 xe, BMW: 1 xe"
   ]
  },
  {
   "cell_type": "code",
   "execution_count": 8,
   "metadata": {},
   "outputs": [
    {
     "name": "stdout",
     "output_type": "stream",
     "text": [
      "Manufacturer\n",
      "Toyota    4\n",
      "Honda     3\n",
      "Nissan    2\n",
      "BMW       1\n",
      "Name: count, dtype: int64\n"
     ]
    }
   ],
   "source": [
    "manufacturer_counts = cars[\"Manufacturer\"].value_counts()\n",
    "print(manufacturer_counts)"
   ]
  },
  {
   "cell_type": "markdown",
   "metadata": {},
   "source": [
    "### 5. Đếm số xe theo màu\n"
   ]
  },
  {
   "cell_type": "code",
   "execution_count": 9,
   "metadata": {},
   "outputs": [
    {
     "name": "stdout",
     "output_type": "stream",
     "text": [
      "Colour\n",
      "White    4\n",
      "Blue     3\n",
      "Red      1\n",
      "Black    1\n",
      "Green    1\n",
      "Name: count, dtype: int64\n"
     ]
    }
   ],
   "source": [
    "color_counts = cars[\"Colour\"].value_counts()\n",
    "print(color_counts)"
   ]
  },
  {
   "cell_type": "markdown",
   "metadata": {},
   "source": [
    "### 6. Tổng giá trị các xe trong cửa hàng\n",
    "\n",
    "Đáp án: 76450 USD\n"
   ]
  },
  {
   "cell_type": "code",
   "execution_count": 57,
   "metadata": {},
   "outputs": [
    {
     "name": "stdout",
     "output_type": "stream",
     "text": [
      "Tổng giá trị các xe trong cửa hàng là: 76450.0\n"
     ]
    }
   ],
   "source": [
    "total_price = cars[\"Price\"].sum()\n",
    "print(f\"Tổng giá trị các xe trong cửa hàng là: {total_price}\")"
   ]
  },
  {
   "cell_type": "markdown",
   "metadata": {},
   "source": [
    "### 7. Top 3 xe có giá cao nhất\n"
   ]
  },
  {
   "cell_type": "code",
   "execution_count": 11,
   "metadata": {},
   "outputs": [
    {
     "name": "stdout",
     "output_type": "stream",
     "text": [
      "  Manufacturer Colour  Odometer  Doors    Price\n",
      "3          BMW  Black     11179      5  22000.0\n",
      "9       Nissan  White     31600      4   9700.0\n",
      "6        Honda   Blue     45698      4   7500.0\n"
     ]
    }
   ],
   "source": [
    "top_3_cars_price = cars.nlargest(3, \"Price\")\n",
    "print(top_3_cars_price)"
   ]
  },
  {
   "cell_type": "markdown",
   "metadata": {},
   "source": [
    "### 8. Top 3 xe đã chạy nhiều cây số (km)nhất (Odometer)\n",
    "\n",
    "Đáp án:\n",
    "- Xe Nissan, White, 213095 km\n",
    "- Xe Toyota, White, 150043 km\n",
    "- Xe Toyota, Green, 99213 km"
   ]
  },
  {
   "cell_type": "code",
   "execution_count": 12,
   "metadata": {},
   "outputs": [
    {
     "name": "stdout",
     "output_type": "stream",
     "text": [
      "  Manufacturer Colour  Odometer  Doors   Price\n",
      "4       Nissan  White    213095      4  3500.0\n",
      "0       Toyota  White    150043      4  4000.0\n",
      "5       Toyota  Green     99213      4  4500.0\n"
     ]
    }
   ],
   "source": [
    "top_3_cars_odometer = cars.nlargest(3, \"Odometer\")\n",
    "print(top_3_cars_odometer)"
   ]
  },
  {
   "cell_type": "markdown",
   "metadata": {},
   "source": [
    "### 9. Khảo sát xe của hãng Honda\n",
    "\n",
    "- Tính tỷ lệ xe Honda trong dữ liệu của cửa hàng (0.3)\n",
    "- Cho biết giá trung bình của xe hãng Honda của cửa hàng (6500)\n",
    "- Cho biết các xe của hãng Honda trong cửa hàng có những màu sắc nào (Red, Blue)"
   ]
  },
  {
   "cell_type": "code",
   "execution_count": 13,
   "metadata": {},
   "outputs": [
    {
     "name": "stdout",
     "output_type": "stream",
     "text": [
      "Tỷ lệ xe Honda trong dữ liệu: 0.3\n",
      "Giá trung bình của xe Honda: 6500.0\n",
      "Các màu sắc của xe Honda: ['Red' 'Blue']\n"
     ]
    }
   ],
   "source": [
    "# Lấy dữ liệu xe Honda\n",
    "honda_cars = cars[cars[\"Manufacturer\"] == \"Honda\"]\n",
    "\n",
    "# Tính tỷ lệ xe Honda trong dữ liệu\n",
    "honda_ratio = honda_cars.shape[0] / cars.shape[0]\n",
    "\n",
    "# Tính giá trung bình của xe Honda\n",
    "honda_price = honda_cars[\"Price\"].mean()\n",
    "\n",
    "# Lấy danh sách màu sắc của xe Honda\n",
    "honda_colors = honda_cars[\"Colour\"].unique()\n",
    "\n",
    "# In kết quả\n",
    "print(\"Tỷ lệ xe Honda trong dữ liệu:\", honda_ratio)\n",
    "print(\"Giá trung bình của xe Honda:\", honda_price)\n",
    "print(\"Các màu sắc của xe Honda:\", honda_colors)"
   ]
  },
  {
   "cell_type": "markdown",
   "metadata": {},
   "source": [
    "### 10. Tính toán các giá trị sau của  thuộc tính giá ('Price')\n",
    "\n",
    "- Giá trung bình các xe (7645)\n",
    "- Giá trị trung vị các xe (6625)\n",
    "- Miền giá trị của xe (18500)\n",
    "- Miền phân vị của xe (2750)\n",
    "- Điểm phân vị 0.4 và 0.6 của giá ([5750, 7000])"
   ]
  },
  {
   "cell_type": "code",
   "execution_count": 14,
   "metadata": {},
   "outputs": [
    {
     "name": "stdout",
     "output_type": "stream",
     "text": [
      "Giá trung bình: 7645.0\n",
      "Giá trị trung vị: 6625.0\n",
      "Miền giá trị: 18500.0\n",
      "Miền phân vị: 2750.0\n",
      "Điểm phân vị 0.4: 5750.0\n",
      "Điểm phân vị 0.6: 7000.0\n"
     ]
    }
   ],
   "source": [
    "# Tính giá trung bình\n",
    "price_mean = cars[\"Price\"].mean()\n",
    "\n",
    "# Tính giá trị trung vị\n",
    "price_median = cars[\"Price\"].median()\n",
    "\n",
    "# Tính miền giá trị\n",
    "price_range = cars[\"Price\"].max() - cars[\"Price\"].min()\n",
    "\n",
    "# Tính miền phân vị\n",
    "price_iqr = cars[\"Price\"].quantile(0.75) - cars[\"Price\"].quantile(0.25)\n",
    "\n",
    "# Tính điểm phân vị 0.4 và 0.6\n",
    "price_percentile_04 = cars[\"Price\"].quantile(0.4)\n",
    "price_percentile_06 = cars[\"Price\"].quantile(0.6)\n",
    "\n",
    "# In kết quả\n",
    "print(\"Giá trung bình:\", price_mean)\n",
    "print(\"Giá trị trung vị:\", price_median)\n",
    "print(\"Miền giá trị:\", price_range)\n",
    "print(\"Miền phân vị:\", price_iqr)\n",
    "print(\"Điểm phân vị 0.4:\", price_percentile_04)\n",
    "print(\"Điểm phân vị 0.6:\", price_percentile_06)"
   ]
  },
  {
   "cell_type": "markdown",
   "metadata": {},
   "source": [
    "---"
   ]
  },
  {
   "cell_type": "markdown",
   "metadata": {},
   "source": [
    "# TIPS dataset\n",
    "\n",
    "Dữ liệu chứa trong file `tips.csv` chứa thông tin tiền tip của khách hàng tại một nhà hàng. Dữ liệu có các thông tin sau:\n",
    "\n",
    "- `total_bill`: tổng hoá đơn (USD)\n",
    "- `tip`: tiền tip/ tiền boa (USD)\n",
    "- `sex`: giới tính người thanh toán hóa đơn\n",
    "- `smoker`: có hút thuốc hay không\n",
    "- `day`: ngày trong tuần\n",
    "- `time`: thời gian dùng bữa(buổi sáng, buổi trưa, buổi tối)\n",
    "- `size`: số lượng người tham gia\n",
    "\n",
    "Bạn hãy thực hiện thống kê mô tả để tìm hiểu về hành vi tip của khách hàng tại nhà hàng"
   ]
  },
  {
   "cell_type": "markdown",
   "metadata": {},
   "source": [
    "1. Đọc dữ liệu\n"
   ]
  },
  {
   "cell_type": "code",
   "execution_count": 15,
   "metadata": {},
   "outputs": [],
   "source": [
    "tips = pd.read_csv('../data/tips.csv')"
   ]
  },
  {
   "cell_type": "code",
   "execution_count": 16,
   "metadata": {},
   "outputs": [
    {
     "data": {
      "text/html": [
       "<div>\n",
       "<style scoped>\n",
       "    .dataframe tbody tr th:only-of-type {\n",
       "        vertical-align: middle;\n",
       "    }\n",
       "\n",
       "    .dataframe tbody tr th {\n",
       "        vertical-align: top;\n",
       "    }\n",
       "\n",
       "    .dataframe thead th {\n",
       "        text-align: right;\n",
       "    }\n",
       "</style>\n",
       "<table border=\"1\" class=\"dataframe\">\n",
       "  <thead>\n",
       "    <tr style=\"text-align: right;\">\n",
       "      <th></th>\n",
       "      <th>Unnamed: 0</th>\n",
       "      <th>total_bill</th>\n",
       "      <th>tip</th>\n",
       "      <th>sex</th>\n",
       "      <th>smoker</th>\n",
       "      <th>day</th>\n",
       "      <th>time</th>\n",
       "      <th>size</th>\n",
       "    </tr>\n",
       "  </thead>\n",
       "  <tbody>\n",
       "    <tr>\n",
       "      <th>0</th>\n",
       "      <td>0</td>\n",
       "      <td>16.99</td>\n",
       "      <td>1.01</td>\n",
       "      <td>Female</td>\n",
       "      <td>No</td>\n",
       "      <td>Sun</td>\n",
       "      <td>Dinner</td>\n",
       "      <td>2</td>\n",
       "    </tr>\n",
       "    <tr>\n",
       "      <th>1</th>\n",
       "      <td>1</td>\n",
       "      <td>10.34</td>\n",
       "      <td>1.66</td>\n",
       "      <td>Male</td>\n",
       "      <td>No</td>\n",
       "      <td>Sun</td>\n",
       "      <td>Dinner</td>\n",
       "      <td>3</td>\n",
       "    </tr>\n",
       "    <tr>\n",
       "      <th>2</th>\n",
       "      <td>2</td>\n",
       "      <td>21.01</td>\n",
       "      <td>3.50</td>\n",
       "      <td>Male</td>\n",
       "      <td>No</td>\n",
       "      <td>Sun</td>\n",
       "      <td>Dinner</td>\n",
       "      <td>3</td>\n",
       "    </tr>\n",
       "    <tr>\n",
       "      <th>3</th>\n",
       "      <td>3</td>\n",
       "      <td>23.68</td>\n",
       "      <td>3.31</td>\n",
       "      <td>Male</td>\n",
       "      <td>No</td>\n",
       "      <td>Sun</td>\n",
       "      <td>Dinner</td>\n",
       "      <td>2</td>\n",
       "    </tr>\n",
       "    <tr>\n",
       "      <th>4</th>\n",
       "      <td>4</td>\n",
       "      <td>24.59</td>\n",
       "      <td>3.61</td>\n",
       "      <td>Female</td>\n",
       "      <td>No</td>\n",
       "      <td>Sun</td>\n",
       "      <td>Dinner</td>\n",
       "      <td>4</td>\n",
       "    </tr>\n",
       "  </tbody>\n",
       "</table>\n",
       "</div>"
      ],
      "text/plain": [
       "   Unnamed: 0  total_bill   tip     sex smoker  day    time  size\n",
       "0           0       16.99  1.01  Female     No  Sun  Dinner     2\n",
       "1           1       10.34  1.66    Male     No  Sun  Dinner     3\n",
       "2           2       21.01  3.50    Male     No  Sun  Dinner     3\n",
       "3           3       23.68  3.31    Male     No  Sun  Dinner     2\n",
       "4           4       24.59  3.61  Female     No  Sun  Dinner     4"
      ]
     },
     "execution_count": 16,
     "metadata": {},
     "output_type": "execute_result"
    }
   ],
   "source": [
    "tips.head()"
   ]
  },
  {
   "cell_type": "markdown",
   "metadata": {},
   "source": [
    "2. Xoá cột `Unnamed: 0`\n"
   ]
  },
  {
   "cell_type": "code",
   "execution_count": 17,
   "metadata": {},
   "outputs": [],
   "source": [
    "del tips['Unnamed: 0']"
   ]
  },
  {
   "cell_type": "code",
   "execution_count": 18,
   "metadata": {},
   "outputs": [
    {
     "data": {
      "text/html": [
       "<div>\n",
       "<style scoped>\n",
       "    .dataframe tbody tr th:only-of-type {\n",
       "        vertical-align: middle;\n",
       "    }\n",
       "\n",
       "    .dataframe tbody tr th {\n",
       "        vertical-align: top;\n",
       "    }\n",
       "\n",
       "    .dataframe thead th {\n",
       "        text-align: right;\n",
       "    }\n",
       "</style>\n",
       "<table border=\"1\" class=\"dataframe\">\n",
       "  <thead>\n",
       "    <tr style=\"text-align: right;\">\n",
       "      <th></th>\n",
       "      <th>total_bill</th>\n",
       "      <th>tip</th>\n",
       "      <th>sex</th>\n",
       "      <th>smoker</th>\n",
       "      <th>day</th>\n",
       "      <th>time</th>\n",
       "      <th>size</th>\n",
       "    </tr>\n",
       "  </thead>\n",
       "  <tbody>\n",
       "    <tr>\n",
       "      <th>0</th>\n",
       "      <td>16.99</td>\n",
       "      <td>1.01</td>\n",
       "      <td>Female</td>\n",
       "      <td>No</td>\n",
       "      <td>Sun</td>\n",
       "      <td>Dinner</td>\n",
       "      <td>2</td>\n",
       "    </tr>\n",
       "    <tr>\n",
       "      <th>1</th>\n",
       "      <td>10.34</td>\n",
       "      <td>1.66</td>\n",
       "      <td>Male</td>\n",
       "      <td>No</td>\n",
       "      <td>Sun</td>\n",
       "      <td>Dinner</td>\n",
       "      <td>3</td>\n",
       "    </tr>\n",
       "    <tr>\n",
       "      <th>2</th>\n",
       "      <td>21.01</td>\n",
       "      <td>3.50</td>\n",
       "      <td>Male</td>\n",
       "      <td>No</td>\n",
       "      <td>Sun</td>\n",
       "      <td>Dinner</td>\n",
       "      <td>3</td>\n",
       "    </tr>\n",
       "    <tr>\n",
       "      <th>3</th>\n",
       "      <td>23.68</td>\n",
       "      <td>3.31</td>\n",
       "      <td>Male</td>\n",
       "      <td>No</td>\n",
       "      <td>Sun</td>\n",
       "      <td>Dinner</td>\n",
       "      <td>2</td>\n",
       "    </tr>\n",
       "    <tr>\n",
       "      <th>4</th>\n",
       "      <td>24.59</td>\n",
       "      <td>3.61</td>\n",
       "      <td>Female</td>\n",
       "      <td>No</td>\n",
       "      <td>Sun</td>\n",
       "      <td>Dinner</td>\n",
       "      <td>4</td>\n",
       "    </tr>\n",
       "  </tbody>\n",
       "</table>\n",
       "</div>"
      ],
      "text/plain": [
       "   total_bill   tip     sex smoker  day    time  size\n",
       "0       16.99  1.01  Female     No  Sun  Dinner     2\n",
       "1       10.34  1.66    Male     No  Sun  Dinner     3\n",
       "2       21.01  3.50    Male     No  Sun  Dinner     3\n",
       "3       23.68  3.31    Male     No  Sun  Dinner     2\n",
       "4       24.59  3.61  Female     No  Sun  Dinner     4"
      ]
     },
     "execution_count": 18,
     "metadata": {},
     "output_type": "execute_result"
    }
   ],
   "source": [
    "tips.head()"
   ]
  },
  {
   "cell_type": "markdown",
   "metadata": {},
   "source": [
    "3. Cho biết dữ liệu có bao nhiêu dòng, bao nhiêu thuộc tính.\n"
   ]
  },
  {
   "cell_type": "code",
   "execution_count": 19,
   "metadata": {},
   "outputs": [
    {
     "data": {
      "text/plain": [
       "(244, 7)"
      ]
     },
     "execution_count": 19,
     "metadata": {},
     "output_type": "execute_result"
    }
   ],
   "source": [
    "# Kích thước dữ liệu\n",
    "tips.shape"
   ]
  },
  {
   "cell_type": "markdown",
   "metadata": {},
   "source": [
    "=> Dữ liệu có 244 dòng và 7 cột"
   ]
  },
  {
   "cell_type": "code",
   "execution_count": 35,
   "metadata": {},
   "outputs": [
    {
     "name": "stdout",
     "output_type": "stream",
     "text": [
      "<class 'pandas.core.frame.DataFrame'>\n",
      "RangeIndex: 244 entries, 0 to 243\n",
      "Data columns (total 7 columns):\n",
      " #   Column      Non-Null Count  Dtype  \n",
      "---  ------      --------------  -----  \n",
      " 0   total_bill  244 non-null    float64\n",
      " 1   tip         244 non-null    float64\n",
      " 2   sex         244 non-null    object \n",
      " 3   smoker      244 non-null    object \n",
      " 4   day         244 non-null    object \n",
      " 5   time        244 non-null    object \n",
      " 6   size        244 non-null    int64  \n",
      "dtypes: float64(2), int64(1), object(4)\n",
      "memory usage: 13.5+ KB\n"
     ]
    }
   ],
   "source": [
    "# Thông tin các thuộc tính\n",
    "tips.info()"
   ]
  },
  {
   "cell_type": "markdown",
   "metadata": {},
   "source": [
    "<u>Nhận xét:</u> Dữ liệu có 7 thuộc tính bao gồm:\n",
    "- Các thuộc tính định lượng: `total_bill`, `tip`, `size`\n",
    "- Các thuộc tính định tính: `sex`, `smoker`, `day`, `time`"
   ]
  },
  {
   "cell_type": "markdown",
   "metadata": {},
   "source": [
    "4. Trong các thuộc tính, thuộc tính nào là thuộc tính phân loại, thuộc tính nào là thuộc tính định lượng\n"
   ]
  },
  {
   "cell_type": "code",
   "execution_count": 21,
   "metadata": {},
   "outputs": [
    {
     "data": {
      "text/plain": [
       "total_bill    float64\n",
       "tip           float64\n",
       "sex            object\n",
       "smoker         object\n",
       "day            object\n",
       "time           object\n",
       "size            int64\n",
       "dtype: object"
      ]
     },
     "execution_count": 21,
     "metadata": {},
     "output_type": "execute_result"
    }
   ],
   "source": [
    "# Kt kiểu DL của tips\n",
    "tips.dtypes"
   ]
  },
  {
   "cell_type": "code",
   "execution_count": 22,
   "metadata": {},
   "outputs": [],
   "source": [
    "# Phân loại dữ liệu\n",
    "categorical_tips_attributes = tips.select_dtypes(include=['object']).columns\n",
    "numerical_tips_attributes = tips.select_dtypes(include=['int64', 'float64']).columns"
   ]
  },
  {
   "cell_type": "code",
   "execution_count": 23,
   "metadata": {},
   "outputs": [
    {
     "name": "stdout",
     "output_type": "stream",
     "text": [
      "Thuộc tính phân loại: Index(['sex', 'smoker', 'day', 'time'], dtype='object')\n",
      "Thuộc tính định lượng: Index(['total_bill', 'tip', 'size'], dtype='object')\n"
     ]
    }
   ],
   "source": [
    "# Hiển thị kết quả\n",
    "print(\"Thuộc tính phân loại:\", categorical_tips_attributes)\n",
    "print(\"Thuộc tính định lượng:\", numerical_tips_attributes)"
   ]
  },
  {
   "cell_type": "markdown",
   "metadata": {},
   "source": [
    "5. Có bao nhiêu nam, bao nhiêu nữ. Tỷ lệ bao nhiêu?\n"
   ]
  },
  {
   "cell_type": "code",
   "execution_count": 50,
   "metadata": {},
   "outputs": [
    {
     "name": "stdout",
     "output_type": "stream",
     "text": [
      "Số người nam là:  157\n",
      "Số người nữ là:  87\n",
      "Tỷ lệ nam giới trong dữ liệu là: 64.34 %\n",
      "Tỷ lệ nữ giới trong dữ liệu là: 35.66 %\n"
     ]
    }
   ],
   "source": [
    "# Đếm số người nam, nữ\n",
    "gender_counts = tips[\"sex\"].value_counts()\n",
    "\n",
    "# Tính tỷ lệ nam, nữ\n",
    "male_ratio = gender_counts['Male'] / len(tips) * 100\n",
    "female_ratio = gender_counts['Female'] / len(tips) * 100\n",
    "\n",
    "# In kết quả\n",
    "print(\"Số người nam là: \", gender_counts['Male'])\n",
    "print(\"Số người nữ là: \", gender_counts['Female'])\n",
    "print(f\"Tỷ lệ nam giới trong dữ liệu là: {round(male_ratio, 2)} %\")\n",
    "print(f\"Tỷ lệ nữ giới trong dữ liệu là: {round(female_ratio, 2)} %\")"
   ]
  },
  {
   "cell_type": "markdown",
   "metadata": {},
   "source": [
    "6. Có bao nhiêu người hút thuốc. Tỷ lệ bao nhiêu?\n"
   ]
  },
  {
   "cell_type": "code",
   "execution_count": 51,
   "metadata": {},
   "outputs": [
    {
     "name": "stdout",
     "output_type": "stream",
     "text": [
      "Số người hút thuốc là: 93\n",
      "Tỷ lệ người hút thuốc là: 38.11 %\n"
     ]
    }
   ],
   "source": [
    "# Đếm số người hút thuốc\n",
    "smoker_counts = tips[\"smoker\"].value_counts()\n",
    "\n",
    "# Tính tỷ lệ người hút thuốc\n",
    "smoker_ratio = smoker_counts['Yes'] / len(tips) * 100\n",
    "\n",
    "# In kết quả\n",
    "print(f\"Số người hút thuốc là: {smoker_counts['Yes']}\")\n",
    "print(f\"Tỷ lệ người hút thuốc là: {round(smoker_ratio, 2)} %\")"
   ]
  },
  {
   "cell_type": "markdown",
   "metadata": {},
   "source": [
    "7. Ngày nào trong tuần khách hàng hay đến dùng bữa nhất. Tỷ lệ bao nhiêu?\n"
   ]
  },
  {
   "cell_type": "code",
   "execution_count": 43,
   "metadata": {},
   "outputs": [
    {
     "data": {
      "text/plain": [
       "dtype('O')"
      ]
     },
     "execution_count": 43,
     "metadata": {},
     "output_type": "execute_result"
    }
   ],
   "source": [
    "tips['day'].dtypes"
   ]
  },
  {
   "cell_type": "code",
   "execution_count": 52,
   "metadata": {},
   "outputs": [
    {
     "name": "stdout",
     "output_type": "stream",
     "text": [
      "Ngày trong tuần khách hàng hay đến nhất: Sat\n",
      "Tỷ lệ: 35.66 %\n"
     ]
    }
   ],
   "source": [
    "# Chuyển cột 'day' thành kiểu categorical để dễ dàng sắp xếp theo thứ tự ngày trong tuần\n",
    "tips['day'] = pd.Categorical(tips['day'], categories=['Thur', 'Fri', 'Sat', 'Sun'], ordered=True)\n",
    "\n",
    "# Đếm số lần mỗi ngày xuất hiện\n",
    "day_counts = tips['day'].value_counts()\n",
    "\n",
    "# Lấy ngày có số lần xuất hiện nhiều nhất\n",
    "most_frequent_day = day_counts.idxmax()\n",
    "\n",
    "# Tính tỷ lệ\n",
    "frequency_percentage = (day_counts[most_frequent_day] / len(tips)) * 100\n",
    "\n",
    "# In kết quả\n",
    "print(f\"Ngày trong tuần khách hàng hay đến nhất: {most_frequent_day}\")\n",
    "print(f\"Tỷ lệ: {round(frequency_percentage, 2)} %\")"
   ]
  },
  {
   "cell_type": "code",
   "execution_count": 58,
   "metadata": {},
   "outputs": [
    {
     "data": {
      "text/plain": [
       "CategoricalDtype(categories=['Thur', 'Fri', 'Sat', 'Sun'], ordered=True, categories_dtype=object)"
      ]
     },
     "execution_count": 58,
     "metadata": {},
     "output_type": "execute_result"
    }
   ],
   "source": [
    "tips['day'].dtypes"
   ]
  },
  {
   "cell_type": "markdown",
   "metadata": {},
   "source": [
    "8. Nhà hàng phục vụ bữa ăn nào nhiều nhất (Breakfast, Lunch, Dinner)?\n"
   ]
  },
  {
   "cell_type": "code",
   "execution_count": 45,
   "metadata": {},
   "outputs": [
    {
     "name": "stdout",
     "output_type": "stream",
     "text": [
      "Nhà hàng phục vụ bữa ăn Dinner nhiều nhất\n",
      "Số lần bữa ăn Dinner xuất hiện là: 176\n"
     ]
    }
   ],
   "source": [
    "# Đếm số bữa ăn mà nhà hàng phục vụ\n",
    "meal_counts = tips['time'].value_counts()\n",
    "\n",
    "# Lấy bữa ăn có số lần xuất hiện nhiều nhất\n",
    "most_served_meal = meal_counts.idxmax()\n",
    "\n",
    "# In kết quả\n",
    "print(f\"Nhà hàng phục vụ bữa ăn {most_served_meal} nhiều nhất\")\n",
    "print(f\"Số lần bữa ăn {most_served_meal} xuất hiện là: {meal_counts[most_served_meal]}\")"
   ]
  },
  {
   "cell_type": "markdown",
   "metadata": {},
   "source": [
    "9. Nhóm khách hàng dùng bữa tại nhà hàng nhiều nhất là bao nhiêu người?\n"
   ]
  },
  {
   "cell_type": "code",
   "execution_count": 49,
   "metadata": {},
   "outputs": [
    {
     "name": "stdout",
     "output_type": "stream",
     "text": [
      "Nhóm khách hàng dùng bữa tại nhà hàng nhiều nhất là: 2 người\n",
      "Số lần xuất hiện là: 156\n"
     ]
    }
   ],
   "source": [
    "# Đếm số lần mỗi nhóm (số người) xuất hiện\n",
    "group_size_counts = tips['size'].value_counts()\n",
    "\n",
    "# Lấy nhóm (số người) có số lần xuất hiện nhiều nhất\n",
    "most_common_group_size = group_size_counts.idxmax()\n",
    "\n",
    "# In kết quả\n",
    "print(f\"Nhóm khách hàng dùng bữa tại nhà hàng nhiều nhất là: {most_common_group_size} người\")\n",
    "print(f\"Số lần xuất hiện là: {group_size_counts[most_common_group_size]}\")"
   ]
  },
  {
   "cell_type": "markdown",
   "metadata": {},
   "source": [
    "10. Trung bình trong một bữa ăn nhà hàng phục vụ mấy khách?"
   ]
  },
  {
   "cell_type": "code",
   "execution_count": 55,
   "metadata": {},
   "outputs": [
    {
     "name": "stdout",
     "output_type": "stream",
     "text": [
      "Trung bình trong một bữa ăn nhà hàng phục vụ 3.0 khách\n"
     ]
    }
   ],
   "source": [
    "# Tính trung bình trong một bữa ăn nhà hàng phục vụ mấy khách\n",
    "average_group_size = tips['size'].mean()\n",
    "\n",
    "# In kết quả\n",
    "print(f\"Trung bình trong một bữa ăn nhà hàng phục vụ {round(average_group_size, 0)} khách\")"
   ]
  },
  {
   "cell_type": "markdown",
   "metadata": {},
   "source": [
    "---"
   ]
  }
 ],
 "metadata": {
  "kernelspec": {
   "display_name": ".envTKUD",
   "language": "python",
   "name": "python3"
  },
  "language_info": {
   "codemirror_mode": {
    "name": "ipython",
    "version": 3
   },
   "file_extension": ".py",
   "mimetype": "text/x-python",
   "name": "python",
   "nbconvert_exporter": "python",
   "pygments_lexer": "ipython3",
   "version": "3.11.5"
  },
  "orig_nbformat": 4
 },
 "nbformat": 4,
 "nbformat_minor": 2
}
