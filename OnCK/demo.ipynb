{
 "cells": [
  {
   "cell_type": "markdown",
   "metadata": {},
   "source": [
    "Xây dựng phương trình đường thẳng hồi quy tuyến tính"
   ]
  },
  {
   "cell_type": "code",
   "execution_count": 5,
   "metadata": {},
   "outputs": [
    {
     "name": "stdout",
     "output_type": "stream",
     "text": [
      "Phương trình hồi quy tuyến tính là: Y = 1.0411328388401895 + 0.16554281861092376 * X\n"
     ]
    }
   ],
   "source": [
    "import pandas as pd\n",
    "from sklearn.linear_model import LinearRegression\n",
    "import numpy as np\n",
    "\n",
    "# Đọc dữ liệu từ bảng\n",
    "data = pd.DataFrame({\n",
    "    \"X\": [28, 28, 24, 30, 60, 30, 32, 42, 43, 49],\n",
    "    \"Y\": [5, 6, 5, 6, 10, 5, 7, 8, 9, 10]\n",
    "})\n",
    "\n",
    "# Tạo mô hình hồi quy tuyến tính\n",
    "model = LinearRegression()\n",
    "\n",
    "# Huấn luyện mô hình\n",
    "model.fit(data[\"X\"].values[:, np.newaxis], data[\"Y\"].values)\n",
    "\n",
    "# In phương trình đường thẳng hồi quy\n",
    "print(f\"Phương trình hồi quy tuyến tính là: Y = {model.intercept_} + {model.coef_[0]} * X\")\n"
   ]
  },
  {
   "cell_type": "markdown",
   "metadata": {},
   "source": [
    "Dự báo chiều cao của cây có đường kính 45cm"
   ]
  },
  {
   "cell_type": "code",
   "execution_count": 6,
   "metadata": {},
   "outputs": [
    {
     "name": "stdout",
     "output_type": "stream",
     "text": [
      "Chiều cao dự báo của cây có đường kính 45cm: 8.49055967633176\n"
     ]
    }
   ],
   "source": [
    "# Dự báo chiều cao cho X = 45\n",
    "y_pred = model.predict([[45]])\n",
    "\n",
    "print(\"Chiều cao dự báo của cây có đường kính 45cm:\", y_pred[0])\n"
   ]
  }
 ],
 "metadata": {
  "kernelspec": {
   "display_name": "venv",
   "language": "python",
   "name": "python3"
  },
  "language_info": {
   "codemirror_mode": {
    "name": "ipython",
    "version": 3
   },
   "file_extension": ".py",
   "mimetype": "text/x-python",
   "name": "python",
   "nbconvert_exporter": "python",
   "pygments_lexer": "ipython3",
   "version": "3.11.5"
  }
 },
 "nbformat": 4,
 "nbformat_minor": 2
}
