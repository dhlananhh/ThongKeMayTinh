{
 "cells": [
  {
   "cell_type": "markdown",
   "metadata": {},
   "source": [
    "# THỐNG KÊ MÁY TÍNH & ỨNG DỤNG :: ÔN THI GIỮA KỲ"
   ]
  },
  {
   "cell_type": "markdown",
   "metadata": {},
   "source": [
    "import libraries"
   ]
  },
  {
   "cell_type": "code",
   "execution_count": 2,
   "metadata": {},
   "outputs": [],
   "source": [
    "import pandas as pd\n",
    "import numpy as np\n",
    "import matplotlib.pyplot as plt\n",
    "import seaborn as sns\n",
    "import math\n",
    "import random"
   ]
  },
  {
   "cell_type": "markdown",
   "metadata": {},
   "source": [
    "## Vấn đề 1: Cho dataset điểm PISA năm 2015 của các học sinh Việt Nam tham gia. Hãy thực hiện: "
   ]
  },
  {
   "cell_type": "markdown",
   "metadata": {},
   "source": [
    "### a) Đọc file dữ liệu trên và hiển thị 10 dòng đầu tiên của bảng dữ liệu, chỉ gồm các trường Region, Gender, PV1Math, PV1Read,PV1Scep và Area."
   ]
  },
  {
   "cell_type": "code",
   "execution_count": 4,
   "metadata": {},
   "outputs": [],
   "source": [
    "pisa_data = pd.read_csv('PISA_VN_2015.csv', usecols=['REGION', 'Gender', 'PV1MATH', 'PV1READ', 'PV1SCEP', 'AREA'])"
   ]
  },
  {
   "cell_type": "code",
   "execution_count": 5,
   "metadata": {},
   "outputs": [
    {
     "data": {
      "text/html": [
       "<div>\n",
       "<style scoped>\n",
       "    .dataframe tbody tr th:only-of-type {\n",
       "        vertical-align: middle;\n",
       "    }\n",
       "\n",
       "    .dataframe tbody tr th {\n",
       "        vertical-align: top;\n",
       "    }\n",
       "\n",
       "    .dataframe thead th {\n",
       "        text-align: right;\n",
       "    }\n",
       "</style>\n",
       "<table border=\"1\" class=\"dataframe\">\n",
       "  <thead>\n",
       "    <tr style=\"text-align: right;\">\n",
       "      <th></th>\n",
       "      <th>REGION</th>\n",
       "      <th>Gender</th>\n",
       "      <th>PV1MATH</th>\n",
       "      <th>PV1READ</th>\n",
       "      <th>PV1SCEP</th>\n",
       "      <th>AREA</th>\n",
       "    </tr>\n",
       "  </thead>\n",
       "  <tbody>\n",
       "    <tr>\n",
       "      <th>0</th>\n",
       "      <td>SOUTH</td>\n",
       "      <td>Boys</td>\n",
       "      <td>439.923</td>\n",
       "      <td>412.290</td>\n",
       "      <td>NaN</td>\n",
       "      <td>URBAN</td>\n",
       "    </tr>\n",
       "    <tr>\n",
       "      <th>1</th>\n",
       "      <td>SOUTH</td>\n",
       "      <td>Boys</td>\n",
       "      <td>406.251</td>\n",
       "      <td>409.598</td>\n",
       "      <td>NaN</td>\n",
       "      <td>URBAN</td>\n",
       "    </tr>\n",
       "    <tr>\n",
       "      <th>2</th>\n",
       "      <td>SOUTH</td>\n",
       "      <td>Girls</td>\n",
       "      <td>414.369</td>\n",
       "      <td>384.307</td>\n",
       "      <td>NaN</td>\n",
       "      <td>URBAN</td>\n",
       "    </tr>\n",
       "    <tr>\n",
       "      <th>3</th>\n",
       "      <td>SOUTH</td>\n",
       "      <td>Girls</td>\n",
       "      <td>468.801</td>\n",
       "      <td>459.104</td>\n",
       "      <td>NaN</td>\n",
       "      <td>URBAN</td>\n",
       "    </tr>\n",
       "    <tr>\n",
       "      <th>4</th>\n",
       "      <td>SOUTH</td>\n",
       "      <td>Girls</td>\n",
       "      <td>355.432</td>\n",
       "      <td>402.435</td>\n",
       "      <td>NaN</td>\n",
       "      <td>URBAN</td>\n",
       "    </tr>\n",
       "  </tbody>\n",
       "</table>\n",
       "</div>"
      ],
      "text/plain": [
       "  REGION Gender  PV1MATH  PV1READ  PV1SCEP   AREA\n",
       "0  SOUTH   Boys  439.923  412.290      NaN  URBAN\n",
       "1  SOUTH   Boys  406.251  409.598      NaN  URBAN\n",
       "2  SOUTH  Girls  414.369  384.307      NaN  URBAN\n",
       "3  SOUTH  Girls  468.801  459.104      NaN  URBAN\n",
       "4  SOUTH  Girls  355.432  402.435      NaN  URBAN"
      ]
     },
     "execution_count": 5,
     "metadata": {},
     "output_type": "execute_result"
    }
   ],
   "source": [
    "pisa_data.head()"
   ]
  },
  {
   "cell_type": "code",
   "execution_count": null,
   "metadata": {},
   "outputs": [],
   "source": []
  }
 ],
 "metadata": {
  "kernelspec": {
   "display_name": "venv",
   "language": "python",
   "name": "python3"
  },
  "language_info": {
   "codemirror_mode": {
    "name": "ipython",
    "version": 3
   },
   "file_extension": ".py",
   "mimetype": "text/x-python",
   "name": "python",
   "nbconvert_exporter": "python",
   "pygments_lexer": "ipython3",
   "version": "3.11.5"
  }
 },
 "nbformat": 4,
 "nbformat_minor": 2
}
